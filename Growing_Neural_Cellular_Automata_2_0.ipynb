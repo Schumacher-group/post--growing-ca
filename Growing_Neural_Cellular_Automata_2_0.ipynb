{
  "nbformat": 4,
  "nbformat_minor": 0,
  "metadata": {
    "colab": {
      "name": "Growing Neural Cellular Automata 2.0",
      "provenance": [],
      "collapsed_sections": [],
      "toc_visible": true,
      "include_colab_link": true
    },
    "kernelspec": {
      "display_name": "Python 3",
      "name": "python3"
    }
  },
  "cells": [
    {
      "cell_type": "markdown",
      "metadata": {
        "id": "view-in-github",
        "colab_type": "text"
      },
      "source": [
        "<a href=\"https://colab.research.google.com/github/Schumacher-group/post--growing-ca/blob/master/Growing_Neural_Cellular_Automata_2_0.ipynb\" target=\"_parent\"><img src=\"https://colab.research.google.com/assets/colab-badge.svg\" alt=\"Open In Colab\"/></a>"
      ]
    },
    {
      "cell_type": "markdown",
      "metadata": {
        "id": "28S76DVlfCMZ"
      },
      "source": [
        "# Growing Neural Cellular Automata\n",
        "\n",
        "This notebook contains code to reproduce experiments and figures for the [\"Growing Neural Cellular Automata\"](http://distill.pub/2020/growing-ca) article.\n",
        "\n",
        "Here one can find the [original code](https://colab.research.google.com/github/google-research/self-organising-systems/blob/master/notebooks/growing_ca.ipynb#scrollTo=QzP_vDchq0d9). \n",
        "\n",
        "Copyright 2020 Google LLC\n",
        "\n",
        "Licensed under the Apache License, Version 2.0 (the \"License\");\n",
        "you may not use this file except in compliance with the License.\n",
        "You may obtain a copy of the License at\n",
        "\n",
        "    https://www.apache.org/licenses/LICENSE-2.0\n",
        "\n",
        "Unless required by applicable law or agreed to in writing, software\n",
        "distributed under the License is distributed on an \"AS IS\" BASIS,\n",
        "WITHOUT WARRANTIES OR CONDITIONS OF ANY KIND, either express or implied.\n",
        "See the License for the specific language governing permissions and\n",
        "limitations under the License."
      ]
    },
    {
      "cell_type": "code",
      "metadata": {
        "colab": {
          "base_uri": "https://localhost:8080/"
        },
        "id": "2wgvkT26gpVN",
        "outputId": "75dbfe6e-11e5-49d0-cbfb-90f1254de2b6"
      },
      "source": [
        "\n",
        "from google.colab import drive\n",
        "drive.mount('/content/gdrive')\n",
        "\n",
        "# drive.flush_and_unmount()"
      ],
      "execution_count": 1,
      "outputs": [
        {
          "output_type": "stream",
          "name": "stdout",
          "text": [
            "Mounted at /content/gdrive\n"
          ]
        }
      ]
    },
    {
      "cell_type": "code",
      "metadata": {
        "id": "i5wi_r4gyzFr"
      },
      "source": [
        "#@title Imports and Notebook Utilities\n",
        "%tensorflow_version 2.x\n",
        "\n",
        "%pip install \"dask[complete]\"\n",
        "!pip install aicsimageio\n",
        "!pip install aiohttp\n",
        "!pip install requests\n",
        "\n",
        "from aicsimageio import AICSImage\n",
        "# import os # interactions with the operating system \n",
        "import io # file-related input and output operations\n",
        "import PIL.Image, PIL.ImageDraw \n",
        "import base64\n",
        "import zipfile\n",
        "import json # compiled code is used to store and transport data\n",
        "import requests # allows to send http request in python to store data\n",
        "import numpy as np # support for multi-dimensional arrays and matrices\n",
        "import matplotlib.pylab as pl # necessary for visualizations\n",
        "import glob # pathnames\n",
        "\n",
        "import tensorflow as tf\n",
        "from tensorflow.keras.layers import Conv2D\n",
        "\n",
        "import copy\n",
        "\n",
        "# for tuning \n",
        "from tensorflow import keras\n",
        "! pip install -q -U keras-tuner\n",
        "import keras_tuner as kt\n",
        "\n",
        "\n",
        "from IPython.display import Image, HTML, clear_output\n",
        "import tqdm # shows progress bar \n",
        "\n",
        "import os\n",
        "os.environ['FFMPEG_BINARY'] = 'ffmpeg' \n",
        "# program to process videos and files in command-line\n",
        "import moviepy.editor as mvp\n",
        "from moviepy.video.io.ffmpeg_writer import FFMPEG_VideoWriter\n",
        "\n",
        "import cv2 # to save videos \n",
        "\n",
        "clear_output()\n",
        "\n",
        "def np2pil(a):\n",
        "  if a.dtype in [np.float32, np.float64]:\n",
        "    a = np.uint8(np.clip(a, 0, 1)*255)\n",
        "  return PIL.Image.fromarray(a)\n",
        "\n",
        "def imwrite(f, a, fmt=None):\n",
        "  a = np.asarray(a)\n",
        "  if isinstance(f, str):\n",
        "    fmt = f.rsplit('.', 1)[-1].lower()\n",
        "    if fmt == 'jpg':\n",
        "      fmt = 'jpeg'\n",
        "    f = open(f, 'wb')\n",
        "  np2pil(a).save(f, fmt, quality=95)\n",
        "\n",
        "def imencode(a, fmt='jpeg'):\n",
        "  a = np.asarray(a)\n",
        "  if len(a.shape) == 3 and a.shape[-1] == 4:\n",
        "    fmt = 'png'\n",
        "  f = io.BytesIO()\n",
        "  imwrite(f, a, fmt)\n",
        "  return f.getvalue()\n",
        "\n",
        "def im2url(a, fmt='jpeg'):\n",
        "  encoded = imencode(a, fmt)\n",
        "  base64_byte_string = base64.b64encode(encoded).decode('ascii')\n",
        "  return 'data:image/' + fmt.upper() + ';base64,' + base64_byte_string\n",
        "\n",
        "def imshow(a, fmt='jpeg'):\n",
        "  display(Image(data=imencode(a, fmt)))\n",
        "\n",
        "def tile2d(a, w=None):\n",
        "  a = np.asarray(a)\n",
        "  if w is None:\n",
        "    w = int(np.ceil(np.sqrt(len(a))))\n",
        "  th, tw = a.shape[1:3]\n",
        "  pad = (w-len(a))%w\n",
        "  a = np.pad(a, [(0, pad)]+[(0, 0)]*(a.ndim-1), 'constant')\n",
        "  h = len(a)//w\n",
        "  a = a.reshape([h, w]+list(a.shape[1:]))\n",
        "  a = np.rollaxis(a, 2, 1).reshape([th*h, tw*w]+list(a.shape[4:]))\n",
        "  return a\n",
        "\n",
        "def zoom(img, scale=4):\n",
        "  img = np.repeat(img, scale, 0)\n",
        "  img = np.repeat(img, scale, 1)\n",
        "  return img\n",
        "\n",
        "class VideoWriter:\n",
        "  def __init__(self, filename, fps=30.0, **kw):\n",
        "    self.writer = None\n",
        "    self.params = dict(filename=filename, fps=fps, **kw)\n",
        "\n",
        "  def add(self, img):\n",
        "    img = np.asarray(img)\n",
        "    if self.writer is None:\n",
        "      h, w = img.shape[:2]\n",
        "      self.writer = FFMPEG_VideoWriter(size=(w, h), **self.params)\n",
        "    if img.dtype in [np.float32, np.float64]:\n",
        "      img = np.uint8(img.clip(0, 1)*255)\n",
        "    if len(img.shape) == 2:\n",
        "      img = np.repeat(img[..., None], 3, -1)\n",
        "    self.writer.write_frame(img)\n",
        "\n",
        "  def close(self):\n",
        "    if self.writer:\n",
        "      self.writer.close()\n",
        "\n",
        "  def __enter__(self):\n",
        "    return self\n",
        "\n",
        "  def __exit__(self, *kw):\n",
        "    self.close()"
      ],
      "execution_count": 2,
      "outputs": []
    },
    {
      "cell_type": "code",
      "metadata": {
        "id": "zR6I1JONmWBb"
      },
      "source": [
        "#@title Cellular Automata Parameters\n",
        "CHANNEL_N = 16        # Number of CA state channels\n",
        "TARGET_PADDING = CHANNEL_N   # Number of pixels used to pad the target image border\n",
        "TARGET_SIZE = 40\n",
        "\n",
        "BATCH_SIZE = 8 # for Experiment 1 unnecessary \n",
        "POOL_SIZE = 1024 # for Experiment 1 unnecessary \n",
        "\n",
        "CELL_FIRE_RATE = 0.5\n",
        "\n",
        "ADD_FRAME = 5\n",
        "\n",
        "BITS_12 = 4096\n",
        "BITS_16 = 65536\n",
        "\n",
        "TARGET_EMOJI = \"🦎\" #@param {type:\"string\"}\n",
        "# 🐽\n",
        "\n",
        "EXPERIMENT_TYPE = \"Growing\" #@param [\"Growing\", \"Persistent\", \"Regenerating\"]\n",
        "EXPERIMENT_MAP = {\"Growing\":0, \"Persistent\":1, \"Regenerating\":2}\n",
        "EXPERIMENT_N = EXPERIMENT_MAP[EXPERIMENT_TYPE]\n",
        "\n",
        "# manual selection of growing \n",
        "USE_PATTERN_POOL = [0][0]\n",
        "# [0, 1, 1][EXPERIMENT_N]\n",
        "DAMAGE_N = [0][0]\n",
        "# [0, 0, 3][EXPERIMENT_N]  # Number of patterns to damage in a batch"
      ],
      "execution_count": 3,
      "outputs": []
    },
    {
      "cell_type": "code",
      "metadata": {
        "id": "lCbPFbI_zosW"
      },
      "source": [
        "#@title CA Utilities\n",
        "\n",
        "def to_five(x):\n",
        "  return x[..., :5]\n",
        "\n",
        "def to_alpha(x):\n",
        "  # input is a tensor\n",
        "  # clips values at min 0 and max 1\n",
        "  return tf.clip_by_value(x[..., 3:4], 0.0, 1.0)\n",
        "\n",
        "def to_rgb(x):\n",
        "  # assume rgb premultiplied by alpha\n",
        "  rgb, a = x[..., :3], to_alpha(x)\n",
        "  return 1.0-a+rgb\n",
        "\n",
        "def get_living_mask(x):\n",
        "  alpha = x[:, :, :, 3:4]\n",
        "  # performs max pooling on input \n",
        "  # window size 3\n",
        "  # stride of the window when sliding \n",
        "  # SAME padding \n",
        "  return tf.nn.max_pool2d(alpha, 3, [1, 1, 1, 1], 'SAME') > 0.1\n",
        "\n",
        "def get_microenvironment(x):\n",
        "  micro = x[..., 4]\n",
        "  return micro \n",
        "\n",
        "def get_environment(x):\n",
        "  # obtain information of environment shape from fivth column \n",
        "  microenvironment = x[:, :, :, 4:5]\n",
        "  return microenvironment \n",
        "\n",
        "def make_seed(size, n=1):\n",
        "  # initialize tensor of certain shape with 0\n",
        "  x = np.zeros([n, size, size, CHANNEL_N], np.float32)\n",
        "  x[:, size//2, size//2, 3:] = 1.0\n",
        "  return x\n"
      ],
      "execution_count": 4,
      "outputs": []
    },
    {
      "cell_type": "code",
      "metadata": {
        "colab": {
          "base_uri": "https://localhost:8080/"
        },
        "id": "3utkyZypJC63",
        "outputId": "8c2c6f11-2047-41e7-f4a5-39661ab4a6b7"
      },
      "source": [
        "#@title CA Model \n",
        "\n",
        "\n",
        "class CAModel(tf.keras.Model):\n",
        "  def __init__(self,\n",
        "               first_NN = True, \n",
        "               first_layer=128, \n",
        "               channel_n=CHANNEL_N, \n",
        "               fire_rate=CELL_FIRE_RATE, \n",
        "               kernel_1=None, bias_1=None,\n",
        "               kernel_2=None, bias_2=None\n",
        "  ):\n",
        "    super().__init__() # initialize \n",
        "    self.channel_n = channel_n\n",
        "    self.fire_rate = fire_rate\n",
        "    self.first_layer = first_layer\n",
        "    self.first_NN = first_NN\n",
        "\n",
        "    # define neural network after convolution layer \n",
        "    # with ReLU activation and simple linear transformation for output\n",
        "    if self.first_NN: \n",
        "      self.dmodel = tf.keras.Sequential([\n",
        "          Conv2D(self.first_layer, 1, activation=tf.nn.relu),\n",
        "          Conv2D(self.channel_n, 1, activation=None,\n",
        "              kernel_initializer=tf.zeros_initializer),\n",
        "              ])\n",
        "      \n",
        "    # idea for initialization, currently not working \n",
        "    else: \n",
        "      self.kernel_1 = kernel_1\n",
        "      self.kernel_2 = kernel_2\n",
        "\n",
        "      self.bias_1 = bias_1\n",
        "      self.bias_2 = bias_2\n",
        "\n",
        "      self.dmodel = tf.keras.Sequential([\n",
        "          Conv2D(self.first_layer, 1, activation=tf.nn.relu, \n",
        "                 kernel_initializer = self.kernel_1, \n",
        "                 bias_initializer = self.bias_1),\n",
        "          Conv2D(self.channel_n, 1, activation=None,\n",
        "                 kernel_initializer = self.kernel_2, \n",
        "                 bias_initializer = self.bias_2),\n",
        "              ])\n",
        "\n",
        "    self(tf.zeros([1, 3, 3, channel_n]))  # dummy call to build the model\n",
        "  \n",
        "  \n",
        "  @tf.function\n",
        "  def perceive(self, x, angle=0.0):\n",
        "    identify = np.float32([0, 1, 0])\n",
        "    # 3 filter \n",
        "    # 1. identity filter\n",
        "    identify = np.outer(identify, identify)\n",
        "    # Sobel filter for x-axis\n",
        "    dx = np.outer([1, 2, 1], [-1, 0, 1]) / 8.0 \n",
        "    # Sobel filter for y-axis\n",
        "    dy = dx.T\n",
        "\n",
        "    # possible rotation \n",
        "    c, s = tf.cos(angle), tf.sin(angle)\n",
        "\n",
        "    kernel = tf.stack([identify, c*dx-s*dy, s*dx+c*dy], -1)[:, :, None, :]\n",
        "    kernel = tf.repeat(kernel, self.channel_n, 2)\n",
        "\n",
        "    # construct perception vector through convolution layer \n",
        "    y = tf.nn.depthwise_conv2d(x, kernel, [1, 1, 1, 1], 'SAME')\n",
        "    return y\n",
        "\n",
        "  @tf.function\n",
        "  # implement forward pass of layers in init() function \n",
        "  def call(self, x, fire_rate=None, angle=0.0, step_size=1.0):\n",
        "    pre_life_mask = get_living_mask(x)\n",
        "    within_ellipse = get_microenvironment(x)[0, 1, 1]\n",
        "\n",
        "    y = self.perceive(x, angle)\n",
        "    \n",
        "    # residual update for new cell stage \n",
        "    dx = self.dmodel(y)*step_size\n",
        "\n",
        "    # stochastic update of cells \n",
        "    if fire_rate is None:\n",
        "      fire_rate = self.fire_rate\n",
        "    update_mask = tf.random.uniform(tf.shape(x[:, :, :, :1])) <= fire_rate\n",
        "    # output of neural network, masked by stochasticity \n",
        "    x += dx * tf.cast(update_mask, tf.float32)\n",
        "\n",
        "    post_life_mask = get_living_mask(x)\n",
        "    # check for aliveness of cells pre and post update \n",
        "    # (only if alive at both times a non-zero state is valid)\n",
        "    life_mask = pre_life_mask & post_life_mask\n",
        "\n",
        "    return x * tf.cast(life_mask, tf.float32)  * within_ellipse\n",
        "\n",
        "\n",
        "# output model summary \n",
        "CAModel().dmodel.summary()"
      ],
      "execution_count": 5,
      "outputs": [
        {
          "output_type": "stream",
          "name": "stdout",
          "text": [
            "Model: \"sequential\"\n",
            "_________________________________________________________________\n",
            "Layer (type)                 Output Shape              Param #   \n",
            "=================================================================\n",
            "conv2d (Conv2D)              (1, 3, 3, 128)            6272      \n",
            "_________________________________________________________________\n",
            "conv2d_1 (Conv2D)            (1, 3, 3, 16)             2064      \n",
            "=================================================================\n",
            "Total params: 8,336\n",
            "Trainable params: 8,336\n",
            "Non-trainable params: 0\n",
            "_________________________________________________________________\n"
          ]
        }
      ]
    },
    {
      "cell_type": "markdown",
      "metadata": {
        "id": "-BZLjFeVmG5h"
      },
      "source": [
        "# Input Images\n"
      ]
    },
    {
      "cell_type": "code",
      "metadata": {
        "id": "r0gLpDwrHMxq"
      },
      "source": [
        "#@title Functions for image loading \n",
        "\n",
        "# dimensions of image arrays: Heigth, Width, Depth \n",
        "\n",
        "# OLD\n",
        "def load_image(url, max_size=TARGET_SIZE):\n",
        "  r = requests.get(url)\n",
        "  img = PIL.Image.open(io.BytesIO(r.content))\n",
        "  img.thumbnail((max_size, max_size), PIL.Image.ANTIALIAS)\n",
        "  img = np.float32(img)/255.0\n",
        "  # premultiply RGB by Alpha\n",
        "  img[..., :3] *= img[..., 3:]\n",
        "  return img\n",
        "\n",
        "# OLD\n",
        "# adapted function to read mouse stem cell image\n",
        "def load_image_real(url, max_size): \n",
        "  r = requests.get(url)\n",
        "  img = PIL.Image.open(io.BytesIO(r.content))\n",
        "\n",
        "  # resize the image \n",
        "  img.thumbnail((max_size, max_size), PIL.Image.ANTIALIAS)\n",
        "  \n",
        "  img = np.float32(img)/255.0 \n",
        "  # 255 as maximum value for white possible, normalization\n",
        "\n",
        "  # define alpha vector (default 1)\n",
        "  insert_alpha = [[1]] * max_size\n",
        "\n",
        "  # add alpha entry \n",
        "  img_alpha = np.empty(shape = (len(img), max_size, 4), dtype='object')\n",
        "\n",
        "\n",
        "  # insert alpha channel \n",
        "  for i in range(len(img)):\n",
        "    subsec = img[i:i+1, ...][0, ...] \n",
        "    subsec = np.append(subsec, insert_alpha, axis = 1)\n",
        "    img_alpha[i:i+1, ...] = subsec\n",
        "\n",
        "\n",
        "  # get (i, j) positions of all RGB pixels that are black (i.e. [0, 0, 0])\n",
        "  black_pixels = np.where(\n",
        "      (img_alpha[:, :, 0] < 0.3) & \n",
        "      (img_alpha[:, :, 1] < 0.3) & \n",
        "      (img_alpha[:, :, 2] < 0.3)\n",
        "  )\n",
        "\n",
        "  # set those pixels to white\n",
        "  img_alpha[black_pixels] = [1., 1., 1., 0.]\n",
        "\n",
        "  # encode as float number \n",
        "  img_alpha = np.float32(img_alpha)\n",
        "  \n",
        "  # premultiply RGB by Alpha\n",
        "  img_alpha[..., :3] *= img_alpha[..., 3:]\n",
        "\n",
        "  return(img_alpha)\n",
        "\n",
        "# OLD\n",
        "def load_emoji(emoji):\n",
        "  code = hex(ord(emoji))[2:].lower()\n",
        "  url = 'https://github.com/googlefonts/noto-emoji/blob/main/png/128/emoji_u%s.png?raw=true'%code\n",
        "  return load_image(url)\n",
        "\n",
        "\n",
        "# USED\n",
        "\n",
        "# adds dark frame around cell colony to enable edge detection\n",
        "def framed(image, add_frame):\n",
        "  frame_value = 0\n",
        "  #image[0, 0, 0]\n",
        "\n",
        "  image_height = image.shape[1]\n",
        "  image_width = image.shape[2]\n",
        "\n",
        "  desired_height = image_height + 2 * add_frame\n",
        "  desired_width = image_width + 2 * add_frame\n",
        "\n",
        "  frame = np.full((1, desired_height, desired_width), frame_value, dtype = np.float32)\n",
        "\n",
        "  frame[0, add_frame:add_frame + image.shape[1], add_frame:add_frame + image.shape[2]] = image\n",
        "\n",
        "  return frame\n",
        "\n",
        "# add microenvironment column which encodes the elliptical shape \n",
        "def define_microenvironment(image, threshold, bits):\n",
        "  threshold_index = np.where(image[0, :, :,] > threshold)\n",
        "\n",
        "  new_array = np.zeros(image.shape)\n",
        "  new_array[0][threshold_index] = bits\n",
        "  return new_array\n",
        "\n",
        "def add_microenvironment(image, microenvironment):\n",
        "  image = np.concatenate((image, microenvironment), \n",
        "                         axis = 0)\n",
        "  # set all pixels outside ellipse to 0 \n",
        "  image[:4, ...] *= image[4, ...]\n",
        "  return image\n",
        "\n",
        "def load_image_tiff(url, add_frame, bits):\n",
        "  img = AICSImage(url)\n",
        "\n",
        "  # read inividual channels and add frame \n",
        "  # GSC\n",
        "  image0 = framed(np.float32(img.get_image_data('ZYX',T=0,C=0)), add_frame)\n",
        "  # Lamina B\n",
        "  image1 = framed(np.float32(img.get_image_data('ZYX',T=0,C=1)), add_frame)\n",
        "  # SOX2\n",
        "  image2 = framed(np.float32(img.get_image_data('ZYX',T=0,C=2)), add_frame)\n",
        "  # Brachyury (T)\n",
        "  image3 = framed(np.float32(img.get_image_data('ZYX',T=0,C=3)), add_frame)\n",
        "\n",
        "  # concatenate channel arrays \n",
        "  image = np.concatenate((image0, image2, image3, image1), \n",
        "                         axis=0)\n",
        "  img = np.float32(image) / bits\n",
        "\n",
        "   \n",
        "  return img, image0, image1, image2, image3\n"
      ],
      "execution_count": 9,
      "outputs": []
    },
    {
      "cell_type": "code",
      "metadata": {
        "colab": {
          "base_uri": "https://localhost:8080/",
          "height": 171
        },
        "id": "zKlA50h0jlvl",
        "outputId": "42c09d34-0142-4d31-848c-96e09cc12dc3"
      },
      "source": [
        "#@title Read RGB Image { vertical-output: true}\n",
        "\n",
        "# width of the target image (height constructed porportionally)\n",
        "desired_size = 50 \n",
        "\n",
        "\n",
        "# 1) mouse stem cell image as input \n",
        "  # a. after 48 hours\n",
        "url_cell_intermediate ='https://raw.githubusercontent.com/Schumacher-group/post--growing-ca/master/data/S2_48h_Col_1_scaled(RGB)_212x129.tif?raw=true'\n",
        "\n",
        "  # b. after 60 hours\n",
        "url_cell_final = 'https://raw.githubusercontent.com/Schumacher-group/post--growing-ca/master/data/S2_60h_Col_1_scaled(RGB)_217x129.tif?raw=true'\n",
        "\n",
        "intermediate_old = load_image_real(url_cell_intermediate, desired_size)\n",
        "final_old = load_image_real(url_cell_final, desired_size)\n",
        "\n",
        "#intermediate_img = intermediate_old\n",
        "#target_img = final_old\n",
        "\n",
        "# 2) emoji as input  \n",
        "# target_img = load_emoji(TARGET_EMOJI)\n",
        "\n",
        "imshow(zoom(to_rgb(intermediate_old), 2), fmt='png')\n",
        "imshow(zoom(to_rgb(final_old), 2), fmt='png')\n",
        "\n",
        "print(intermediate_old.shape)\n",
        "print(final_old.shape)\n"
      ],
      "execution_count": 7,
      "outputs": [
        {
          "output_type": "display_data",
          "data": {
            "image/png": "[encoded data removed]",
            "text/plain": [
              "<IPython.core.display.Image object>"
            ]
          },
          "metadata": {}
        },
        {
          "output_type": "display_data",
          "data": {
            "image/png": "[encoded data removed]",
            "text/plain": [
              "<IPython.core.display.Image object>"
            ]
          },
          "metadata": {}
        },
        {
          "output_type": "stream",
          "name": "stdout",
          "text": [
            "(30, 50, 4)\n",
            "(30, 50, 4)\n"
          ]
        }
      ]
    },
    {
      "cell_type": "code",
      "metadata": {
        "colab": {
          "base_uri": "https://localhost:8080/"
        },
        "id": "SLRqrpyWhA0C",
        "outputId": "851ce0cd-d713-42f3-ffed-de94b2b67cf5"
      },
      "source": [
        "#@title Read TIFF image { vertical-output: true}\n",
        "\n",
        "# Documentation: https://allencellmodeling.github.io/aicsimageio/aicsimageio.aics_image.AICSImage.html\n",
        "\n",
        "url_intermediate = 'https://github.com/Schumacher-group/post--growing-ca/blob/master/data/48_h_downsized-2.tif?raw=true'\n",
        "\n",
        "# new 'https://github.com/Schumacher-group/post--growing-ca/blob/master/data/MAX_210727_S2_48h_stack_reg.tif?raw=true'\n",
        "#'https://github.com/Schumacher-group/post--growing-ca/blob/master/data/S2_48h_Col_1_scaled.tif?raw=true'\n",
        "\n",
        "url_final = 'https://github.com/Schumacher-group/post--growing-ca/blob/master/data/60_h_downsized.tif?raw=true'\n",
        "\n",
        "# new 'https://github.com/Schumacher-group/post--growing-ca/blob/master/data/MAX_210727_S2_60h_stack_reg.tif?raw=true'\n",
        "#'https://raw.githubusercontent.com/Schumacher-group/post--growing-ca/master/data/S2_60h_Col_1_scaled.tif?raw=true'\n",
        "\n",
        "img_intermediate_prelim, image_intermediate_GSC, image_intermediate_lamina, image_intermediate_SOX2, image_intermediate_TBRA = load_image_tiff(url_intermediate, ADD_FRAME, BITS_12)\n",
        "img_final_prelim, image_final_GSC, image_final_lamina, image_final_SOX2, image_final_TBRA = load_image_tiff(url_final, ADD_FRAME, BITS_16)\n",
        "\n",
        "microenvironment_intermediate = define_microenvironment(image_intermediate_lamina, 400, BITS_12)\n",
        "microenvironment_final = define_microenvironment(image_final_lamina, 5000, BITS_16)\n",
        "\n",
        "# set to biggest microenvironment \n",
        "microenvironment = microenvironment_final + microenvironment_intermediate\n",
        "microenvironment[np.where(microenvironment > 0)] = 1\n",
        "\n",
        "img_intermediate_prelim = add_microenvironment(img_intermediate_prelim, microenvironment)\n",
        "img_final_prelim = add_microenvironment(img_final_prelim, microenvironment)\n",
        "\n",
        "# check if microenvironment for both images is identical \n",
        "print(np.where(img_final_prelim[4, ...] != img_intermediate_prelim[4, ...]))\n",
        "\n",
        "# transpose necessary to bring into wanted formate \n",
        "intermediate_img = img_intermediate_prelim.T\n",
        "target_img = img_final_prelim.T\n",
        "\n",
        "print(intermediate_img.shape)\n",
        "print(target_img.shape)\n"
      ],
      "execution_count": 22,
      "outputs": [
        {
          "output_type": "stream",
          "name": "stderr",
          "text": [
            "Failed to parse XML for the provided file.\n",
            "not well-formed (invalid token): line 1, column 6\n",
            "Failed to parse XML for the provided file.\n",
            "not well-formed (invalid token): line 1, column 6\n"
          ]
        },
        {
          "output_type": "stream",
          "name": "stdout",
          "text": [
            "(array([], dtype=int64), array([], dtype=int64))\n",
            "(58, 26, 5)\n",
            "(58, 26, 5)\n"
          ]
        }
      ]
    },
    {
      "cell_type": "code",
      "metadata": {
        "colab": {
          "base_uri": "https://localhost:8080/",
          "height": 810
        },
        "id": "AFRVVN0Q2kDK",
        "outputId": "20744906-f19e-49a1-f7a7-517d621312e2"
      },
      "source": [
        "#@title Plot channels to intermediate image { vertical-output: true}\n",
        "from matplotlib import pyplot as plt\n",
        "\n",
        "# image_intermediate_lamina[0]\n",
        "# image_intermediate_GSC[0]\n",
        "# image_intermediate_SOX2[0]\n",
        "# image_intermediate_TBRA[0]\n",
        "# plot original image and edges \n",
        "fig2, (ax1, ax2, ax3, ax4) = pl.subplots(ncols=1, nrows=4, figsize=(6, 14),\n",
        "                                sharex=True, sharey=True)\n",
        "\n",
        "ax1.set_title('Lamina 48h')\n",
        "ax1.imshow(image_intermediate_lamina[0])\n",
        "\n",
        "ax2.set_title('GSC')\n",
        "ax2.imshow(image_intermediate_GSC[0])\n",
        "\n",
        "ax3.set_title('SOX2')\n",
        "ax3.imshow(image_intermediate_SOX2[0])\n",
        "\n",
        "ax4.set_title('TBRA')\n",
        "ax4.imshow(image_intermediate_TBRA[0])\n",
        "\n",
        "pl.show()\n",
        "\n",
        "fig2.savefig('48_h_compare_channels.eps', format='eps')\n",
        "plt.close(fig2)\n"
      ],
      "execution_count": 11,
      "outputs": [
        {
          "output_type": "display_data",
          "data": {
            "image/png": "[encoded data removed]",
            "text/plain": [
              "<Figure size 432x1008 with 4 Axes>"
            ]
          },
          "metadata": {
            "needs_background": "light"
          }
        }
      ]
    },
    {
      "cell_type": "code",
      "metadata": {
        "colab": {
          "base_uri": "https://localhost:8080/",
          "height": 810
        },
        "id": "5w7WPsrdkUVR",
        "outputId": "a182af9c-dea1-4b26-84a7-4f904e5fcadf"
      },
      "source": [
        "#@title Plot channels to final image { vertical-output: true}\n",
        "\n",
        "#pl.imshow(image_final_GSC[0])\n",
        "# image_final_GSC[0]\n",
        "# image_final_SOX2[0]\n",
        "# image_final_lamina[0]\n",
        "# image_final_TBRA[0]\n",
        "\n",
        "fig3, (ax1, ax2, ax3, ax4) = pl.subplots(ncols=1, nrows=4, figsize=(6, 14),\n",
        "                                sharex=True, sharey=True)\n",
        "\n",
        "ax1.set_title('Lamina 60h')\n",
        "ax1.imshow(image_final_lamina[0])\n",
        "\n",
        "ax2.set_title('GSC')\n",
        "ax2.imshow(image_final_GSC[0])\n",
        "\n",
        "ax3.set_title('SOX2')\n",
        "ax3.imshow(image_final_SOX2[0])\n",
        "\n",
        "ax4.set_title('TBRA')\n",
        "ax4.imshow(image_final_TBRA[0])\n",
        "\n",
        "pl.show()\n",
        "\n",
        "fig3.savefig('60_h_compare_channels.eps', format='eps')\n",
        "plt.close(fig3)\n"
      ],
      "execution_count": 12,
      "outputs": [
        {
          "output_type": "display_data",
          "data": {
            "image/png": "[encoded data removed]",
            "text/plain": [
              "<Figure size 432x1008 with 4 Axes>"
            ]
          },
          "metadata": {
            "needs_background": "light"
          }
        }
      ]
    },
    {
      "cell_type": "code",
      "metadata": {
        "colab": {
          "base_uri": "https://localhost:8080/",
          "height": 598
        },
        "id": "K6fXdSOQaV8l",
        "outputId": "4bdee2cc-a741-444a-84c0-79a74733ee52"
      },
      "source": [
        "#@title Plot microenvironment \n",
        "fig_micro, (ax1, ax2, ax3) = pl.subplots(ncols=1, nrows=3, figsize=(6, 10),\n",
        "                                sharex=True, sharey=True)\n",
        "\n",
        "ax1.set_title('48 hours')\n",
        "ax1.imshow(img_intermediate_prelim[4, ...])\n",
        "\n",
        "ax2.set_title('60 hours')\n",
        "ax2.imshow(img_final_prelim[4,  ...])\n",
        "\n",
        "ax3.set_title('general')\n",
        "ax3.imshow(microenvironment[0])\n",
        "\n",
        "fig_micro.savefig('microenvironment.eps', formate='eps')\n"
      ],
      "execution_count": 13,
      "outputs": [
        {
          "output_type": "display_data",
          "data": {
            "image/png": "[encoded data removed]",
            "text/plain": [
              "<Figure size 432x720 with 3 Axes>"
            ]
          },
          "metadata": {
            "needs_background": "light"
          }
        }
      ]
    },
    {
      "cell_type": "code",
      "metadata": {
        "colab": {
          "base_uri": "https://localhost:8080/"
        },
        "id": "isjP_YMa9Qhf",
        "outputId": "ff1b40d6-22ce-499f-9b6b-c6cd92fbc9d3"
      },
      "source": [
        "#@title Calculate size and range of arrays { vertical-output: true}\n",
        "\n",
        "def minmax(image):\n",
        "  minimum = min(min(image[0].tolist()))\n",
        "  maximum = max(max(image[0].tolist()))\n",
        "  return minimum, maximum\n",
        "\n",
        "print(\"48 hours (Lamina - SOX2 - TBRA - GSC)\")\n",
        "print(minmax(image_intermediate_lamina))\n",
        "print(minmax(image_intermediate_SOX2))\n",
        "print(minmax(image_intermediate_TBRA))\n",
        "print(minmax(image_intermediate_GSC))\n",
        "\n",
        "print(\"\")\n",
        "print(\"60 hours (same order)\")\n",
        "print(minmax(image_final_lamina))\n",
        "print(minmax(image_final_SOX2))\n",
        "print(minmax(image_final_TBRA))\n",
        "print(minmax(image_final_GSC))\n",
        "\n",
        "print(\"\")\n",
        "print(\"range of output images\")\n",
        "print(np.ptp(intermediate_img, axis = (0, 1, 2)))\n",
        "print(np.ptp(target_img, axis = (0, 1, 2)))\n"
      ],
      "execution_count": 14,
      "outputs": [
        {
          "output_type": "stream",
          "name": "stdout",
          "text": [
            "48 hours (Lamina - SOX2 - TBRA - GSC)\n",
            "(0.0, 1219.0)\n",
            "(0.0, 1373.0)\n",
            "(0.0, 1640.0)\n",
            "(0.0, 999.0)\n",
            "\n",
            "60 hours (same order)\n",
            "(0.0, 45361.0)\n",
            "(0.0, 28822.0)\n",
            "(0.0, 41641.0)\n",
            "(0.0, 26130.0)\n",
            "\n",
            "range of output images\n",
            "1.0\n",
            "1.0\n"
          ]
        }
      ]
    },
    {
      "cell_type": "code",
      "metadata": {
        "colab": {
          "base_uri": "https://localhost:8080/",
          "height": 627
        },
        "id": "ekLRN2VeyJkg",
        "outputId": "0d8e433a-e9b8-4be8-d7c9-b0ed83fafaf7"
      },
      "source": [
        "#@title Read average data { vertical-output: true}\n",
        "\n",
        "# Importing necessary Libraries\n",
        "import numpy as np\n",
        "import pandas as pd\n",
        "\n",
        "from skimage.transform import hough_ellipse\n",
        "\n",
        "# Read table\n",
        "# Read the data as a pandas frame\n",
        "df = pd.read_csv(\"https://github.com/Schumacher-group/post--growing-ca/blob/master/data/210427_S2_results?raw=true\", sep='\\t')\n",
        "print(df.columns)\n",
        "\n",
        "# Remove all nuclei too close from pattern autofluorescence\n",
        "df = df.loc[df['Normalised Coordinate 2'] > -3]\n",
        "\n",
        "\n",
        "# define markers\n",
        "markers = [\"SOX2\", \"TBRA\", \"GSC\"]\n",
        "\n",
        "# define timepoints (conditions)\n",
        "timepoints = [\"36h\", \"48h\", \"60h\"]\n",
        "timepoint = '60h'\n",
        "\n",
        "# create a new column to specify conditions\n",
        "predicates = [(df['Image Name'].str.contains(x)) for x in timepoints]\n",
        "df['Time Point'] = np.select(predicates, timepoints)\n",
        "df[['Image Name', 'Time Point']].head()\n",
        "\n",
        "\n",
        "# subset data acc. to timepoint \n",
        "df_subset = df.loc[df['Time Point']==timepoint]\n",
        "  \n",
        "# isolate relevant columns \n",
        "y = df_subset['Normalised Coordinate 0']\n",
        "x = df_subset['Normalised Coordinate 1']\n",
        "points = df_subset[['Normalised Coordinate 1', 'Normalised Coordinate 0']]\n",
        "\n",
        "# mean intensity for marker proteins \n",
        "SOX2 = df_subset['Mean Intensity SOX2']\n",
        "TBRA = df_subset['Mean Intensity TBRA']\n",
        "GSC = df_subset['Mean Intensity GSC']\n",
        "\n",
        "# number of bins to which image will be alloted\n",
        "bin_number = 48\n",
        "\n",
        "# create array with count entries for each bin\n",
        "H, xedges, yedges = np.histogram2d(x, y, bins = bin_number)\n",
        "H = H.T\n",
        "\n",
        "# create second array to use as a divisor\n",
        "H_divisor = np.histogram2d(x, y, bins = bin_number)[0].T\n",
        "H_divisor[np.where(H == 0)] = 1\n",
        "\n",
        "# create arrays with sum of mean intensities and divide to get mean of mean intensities\n",
        "H_SOX2 = np.histogram2d(x, y, bins = bin_number, weights=SOX2)[0].T\n",
        "H_mean_SOX2 = H_SOX2/ H_divisor\n",
        "H_TBRA = np.histogram2d(x, y, bins = bin_number, weights=TBRA)[0].T\n",
        "H_mean_TBRA = H_TBRA / H_divisor\n",
        "H_GSC = np.histogram2d(x, y, bins = bin_number, weights=GSC)[0].T\n",
        "H_mean_GSC = H_GSC / H_divisor\n",
        "\n",
        "# create dead / alive column as a binary column \n",
        "H_lamina = np.histogram2d(x, y, bins = bin_number)[0].T\n",
        "H_lamina[np.where(H_lamina != 0)] = 1\n",
        "\n",
        "\n",
        "\n",
        "H_mean_SOX2_reformated = H_mean_SOX2.reshape((H_mean_SOX2.shape[0], H_mean_SOX2.shape[1], 1))\n",
        "H_mean_TBRA_reformated = H_mean_TBRA.reshape((H_mean_TBRA.shape[0], H_mean_TBRA.shape[1], 1))\n",
        "H_mean_GSC_reformated = H_mean_GSC.reshape((H_mean_GSC.shape[0], H_mean_GSC.shape[1], 1))\n",
        "H_lamina_reformated = H_lamina.reshape((H_lamina.shape[0], H_lamina.shape[1], 1))\n",
        "\n",
        "\n",
        "\n",
        "H_array = np.concatenate((H_mean_SOX2_reformated, \n",
        "                          H_mean_TBRA_reformated, \n",
        "                          H_mean_GSC_reformated, \n",
        "                          H_lamina_reformated), axis = 2)\n",
        "\n",
        "# Visualization and check\n",
        "pl.imshow(H_SOX2)\n",
        "#pl.imshow(H_mean_GSC)\n",
        "#pl.imshow(H_mean_TBRA)\n",
        "#pl.imshow(H_lamina, vmax = 1)\n",
        "\n",
        "# print(H_array.shape)\n"
      ],
      "execution_count": 15,
      "outputs": [
        {
          "output_type": "stream",
          "name": "stdout",
          "text": [
            "Index(['Centroid X', 'Centroid Y', 'Centroid Z', 'Database ID', 'Image Name',\n",
            "       'Intensity Variance GSC', 'Intensity Variance LMBR',\n",
            "       'Intensity Variance SOX2', 'Intensity Variance TBRA', 'Is Border',\n",
            "       'Kurtosis Intensity GSC', 'Kurtosis Intensity LMBR',\n",
            "       'Kurtosis Intensity SOX2', 'Kurtosis Intensity TBRA', 'Location X',\n",
            "       'Location Y', 'Location Z', 'Max Intensity GSC', 'Max Intensity LMBR',\n",
            "       'Max Intensity SOX2', 'Max Intensity TBRA', 'Mean Intensity GSC',\n",
            "       'Mean Intensity LMBR', 'Mean Intensity SOX2', 'Mean Intensity TBRA',\n",
            "       'Median Intensity GSC', 'Median Intensity LMBR',\n",
            "       'Median Intensity SOX2', 'Median Intensity TBRA', 'Min Intensity GSC',\n",
            "       'Min Intensity LMBR', 'Min Intensity SOX2', 'Min Intensity TBRA',\n",
            "       'Normalised Coordinate 0', 'Normalised Coordinate 1',\n",
            "       'Normalised Coordinate 2', 'Second Moment 0', 'Second Moment 1',\n",
            "       'Second Moment 2', 'Sum Intensity GSC', 'Sum Intensity LMBR',\n",
            "       'Sum Intensity SOX2', 'Sum Intensity TBRA', 'bounding box maximum X',\n",
            "       'bounding box maximum Y', 'bounding box maximum Z',\n",
            "       'bounding box minimum X', 'bounding box minimum Y',\n",
            "       'bounding box minimum Z', 'label', 'volume', 'Unnamed: 51'],\n",
            "      dtype='object')\n"
          ]
        },
        {
          "output_type": "execute_result",
          "data": {
            "text/plain": [
              "<matplotlib.image.AxesImage at 0x7f824c8e5390>"
            ]
          },
          "metadata": {},
          "execution_count": 15
        },
        {
          "output_type": "display_data",
          "data": {
            "image/png": "[encoded data removed]",
            "text/plain": [
              "<Figure size 432x288 with 1 Axes>"
            ]
          },
          "metadata": {
            "needs_background": "light"
          }
        }
      ]
    },
    {
      "cell_type": "markdown",
      "metadata": {
        "id": "xDX5HL7VLd0z"
      },
      "source": [
        "# Training"
      ]
    },
    {
      "cell_type": "code",
      "metadata": {
        "id": "IeWf6HeTe8kM"
      },
      "source": [
        "#@title Train Utilities (SamplePool, Model Export, Damage)\n",
        "from google.protobuf.json_format import MessageToDict\n",
        "from tensorflow.python.framework import convert_to_constants\n",
        "\n",
        "class SamplePool:\n",
        "  def __init__(self, *, _parent=None, _parent_idx=None, **slots):\n",
        "    self._parent = _parent\n",
        "    self._parent_idx = _parent_idx\n",
        "    self._slot_names = slots.keys()\n",
        "    self._size = None\n",
        "    for k, v in slots.items():\n",
        "      if self._size is None:\n",
        "        self._size = len(v)\n",
        "      assert self._size == len(v)\n",
        "      setattr(self, k, np.asarray(v))\n",
        "\n",
        "  def sample(self, n):\n",
        "    idx = np.random.choice(self._size, n, False)\n",
        "    batch = {k: getattr(self, k)[idx] for k in self._slot_names}\n",
        "    batch = SamplePool(**batch, _parent=self, _parent_idx=idx)\n",
        "    return batch\n",
        "\n",
        "  def commit(self):\n",
        "    for k in self._slot_names:\n",
        "      getattr(self._parent, k)[self._parent_idx] = getattr(self, k)\n",
        "\n",
        "#@tf.function\n",
        "def make_circle_masks(n, h, w):\n",
        "  x = tf.linspace(-1.0, 1.0, w)[None, None, :]\n",
        "  y = tf.linspace(-1.0, 1.0, h)[None, :, None]\n",
        "  center = tf.random.uniform([2, n, 1, 1], -0.5, 0.5)\n",
        "  r = tf.random.uniform([n, 1, 1], 0.1, 0.4)\n",
        "  x, y = (x-center[0])/r, (y-center[1])/r\n",
        "  mask = tf.cast(x*x+y*y < 1.0, tf.float32)\n",
        "  return mask\n",
        "\n",
        "def export_model(ca, base_fn):\n",
        "  ca.save_weights(base_fn)\n",
        "\n",
        "  cf = ca.call.get_concrete_function(\n",
        "      x=tf.TensorSpec([None, None, None, CHANNEL_N]),\n",
        "      fire_rate=tf.constant(0.5),\n",
        "      angle=tf.constant(0.0),\n",
        "      step_size=tf.constant(1.0))\n",
        "  cf = convert_to_constants.convert_variables_to_constants_v2(cf)\n",
        "  graph_def = cf.graph.as_graph_def()\n",
        "  graph_json = MessageToDict(graph_def)\n",
        "  graph_json['versions'] = dict(producer='1.14', minConsumer='1.14')\n",
        "  model_json = {\n",
        "      'format': 'graph-model',\n",
        "      'modelTopology': graph_json,\n",
        "      'weightsManifest': [],\n",
        "  }\n",
        "  with open(base_fn+'.json', 'w') as f:\n",
        "    json.dump(model_json, f)\n",
        "\n",
        "def generate_pool_figures(pool, step_i):\n",
        "  tiled_pool = tile2d(to_rgb(pool.x[:49]))\n",
        "  fade = np.linspace(1.0, 0.0, 72)\n",
        "  ones = np.ones(72) \n",
        "  tiled_pool[:, :72] += (-tiled_pool[:, :72] + ones[None, :, None]) * fade[None, :, None] \n",
        "  tiled_pool[:, -72:] += (-tiled_pool[:, -72:] + ones[None, :, None]) * fade[None, ::-1, None]\n",
        "  tiled_pool[:72, :] += (-tiled_pool[:72, :] + ones[:, None, None]) * fade[:, None, None]\n",
        "  tiled_pool[-72:, :] += (-tiled_pool[-72:, :] + ones[:, None, None]) * fade[::-1, None, None]\n",
        "  imwrite('train_log/%04d_pool.jpg'%step_i, tiled_pool)\n",
        "\n",
        "def visualize_batch(x0, x, step_i):\n",
        "  vis0 = np.hstack(to_rgb(x0).numpy())\n",
        "  vis1 = np.hstack(to_rgb(x).numpy())\n",
        "  vis = np.vstack([vis0, vis1])\n",
        "  imwrite('train_log/batches_%04d.jpg'%step_i, vis)\n",
        "  print('batch (before/after):')\n",
        "  imshow(vis)\n",
        "\n",
        "def plot_loss(loss_log):\n",
        "  pl.figure(figsize=(10, 4))\n",
        "  pl.title('Loss history (log10)')\n",
        "  pl.plot(np.log10(loss_log), '.', alpha=0.1)\n",
        "  pl.show()\n"
      ],
      "execution_count": 16,
      "outputs": []
    },
    {
      "cell_type": "code",
      "metadata": {
        "id": "ak5rBmbxmHV7"
      },
      "source": [
        "#@title Define Training functions { vertical-output: true}\n",
        "\n",
        "# define loss function for backpropagation\n",
        "def loss_f(x, target_image):\n",
        "  # only difference in first 5 columns relevant \n",
        "  return tf.reduce_mean(tf.square(to_five(x) - target_image), [-2, -3, -1])\n",
        "\n",
        "@tf.function\n",
        "def train_step(x):\n",
        "  # random choice of steps after which the final state should be obtained \n",
        "  # acc. to pixel size of the output image (here 48)\n",
        "  iter_n = tf.random.uniform([], 64, 96, tf.int32)\n",
        "\n",
        "  # neural cellular automata (calling the object)\n",
        "  ca = CAModel()\n",
        "  with tf.GradientTape() as g:\n",
        "    for i in tf.range(iter_n):\n",
        "      # send x once through neural network and use output as input for next iteration\n",
        "      x = ca(x)\n",
        "      # reduces loss (difference between RGB value of current output and target) across all three dimensions \n",
        "    loss = tf.reduce_mean(loss_f(x, pad_target))\n",
        "  grads = g.gradient(loss, ca.weights)\n",
        "  grads = [g/(tf.norm(g)+1e-8) for g in grads]\n",
        "  trainer.apply_gradients(zip(grads, ca.weights))\n",
        "  return x, loss\n",
        "\n",
        "# @tf.function\n",
        "def train_step_two_targets(x, pad_intermediate, pad_target):\n",
        "  # observation after 48 and 60 hours \n",
        "  iter_n_intermediate = 48\n",
        "  iter_n = 60\n",
        "\n",
        "  # first neural network for update rule up to 48 hours \n",
        "  with tf.GradientTape() as g:\n",
        "    for i in tf.range(iter_n_intermediate):\n",
        "      # send x once through neural network and use output as input for next iteration\n",
        "      x = ca_1(x)\n",
        "    loss_intermediate = tf.reduce_mean(loss_f(x, pad_intermediate))\n",
        "    \n",
        "  grads_1 = g.gradient(loss_intermediate, ca_1.weights)\n",
        "  grads_1 = [g/(tf.norm(g)+1e-8) for g in grads_1]\n",
        "  trainer.apply_gradients(zip(grads_1, ca_1.weights))\n",
        "\n",
        "  # second neural network for update rule up to 60 hours\n",
        "  with tf.GradientTape() as g:\n",
        "    for i in tf.range(start = iter_n_intermediate, limit = iter_n):\n",
        "      x = ca_2(x)\n",
        "    loss_final = tf.reduce_mean(loss_f(x, pad_target))\n",
        "      # reduces loss (difference between RGB value of current output and target) across all three dimensions \n",
        "\n",
        "  grads_2 = g.gradient(loss_final, ca_2.weights)\n",
        "  grads_2 = [g/(tf.norm(g)+1e-8) for g in grads_2]\n",
        "  trainer.apply_gradients(zip(grads_2, ca_2.weights))\n",
        "\n",
        "  return x, loss_intermediate, loss_final \n",
        "\n",
        "\n",
        "  # @tf.function\n",
        "def train_intermediate(x, pad_intermediate):\n",
        "  # first neural network for update rule up to 48 hours \n",
        "  iter_n_intermediate = 48\n",
        "  with tf.GradientTape() as g:\n",
        "    for i in tf.range(iter_n_intermediate):\n",
        "      # send x once through neural network and use output as input for next iteration\n",
        "      x = ca_1(x)\n",
        "    loss_intermediate = tf.reduce_mean(loss_f(x, pad_intermediate))\n",
        "    \n",
        "  grads_1 = g.gradient(loss_intermediate, ca_1.weights)\n",
        "  grads_1 = [g/(tf.norm(g)+1e-8) for g in grads_1]\n",
        "  trainer.apply_gradients(zip(grads_1, ca_1.weights))\n",
        "\n",
        "  return x, loss_intermediate #, ca_1.weights \n",
        "\n",
        "def train_final(x, pad_final):\n",
        "  # second neural network for update rule to 60 hours\n",
        "  iter_n_intermediate = 48\n",
        "  iter_n_final = 60\n",
        "  with tf.GradientTape() as g:\n",
        "    for i in tf.range(start = iter_n_intermediate, limit = iter_n_final):\n",
        "      x = ca_2(x)\n",
        "    loss_final = tf.reduce_mean(loss_f(x, pad_final))\n",
        "      # reduces loss (difference between RGB value of current output and target) across all three dimensions \n",
        "\n",
        "  grads_2 = g.gradient(loss_final, ca_2.weights)\n",
        "  grads_2 = [g/(tf.norm(g)+1e-8) for g in grads_2]\n",
        "  trainer.apply_gradients(zip(grads_2, ca_2.weights))\n",
        "  return x, loss_final \n",
        "\n"
      ],
      "execution_count": 17,
      "outputs": []
    },
    {
      "cell_type": "code",
      "metadata": {
        "id": "-cDJxOdFlult"
      },
      "source": [
        "print(TARGET_PADDING)"
      ],
      "execution_count": null,
      "outputs": []
    },
    {
      "cell_type": "code",
      "metadata": {
        "id": "xuBI7d9kNkl7"
      },
      "source": [
        "#@title Training Initialization { vertical-output: true}\n",
        "\n",
        "# padding = adding a frame (additional array entries)\n",
        "p = TARGET_PADDING\n",
        "pad_intermediate = np.float32(tf.pad(intermediate_img, [(p, p), (p, p), (0, 0)]))\n",
        "pad_target = np.float32(tf.pad(target_img, [(p, p), (p, p), (0, 0)]))\n",
        "\n",
        "h, w = pad_target.shape[:2]\n",
        "orig_h, orig_w = target_img.shape[:2]\n",
        "\n",
        "delta_h = np.int((h - orig_h) / 2)\n",
        "delta_w = np.int((w - orig_w) / 2)\n",
        "\n",
        "# INTITIAL STATE \n",
        "# define one single black pixel seed state\n",
        "seed_prelim = np.zeros([CHANNEL_N, w, h], np.float32)\n",
        "seed_prelim[:3, w//2, h//2] = 1.0\n",
        "\n",
        "# add microenvironment information \n",
        "seed_prelim[4, delta_w:(delta_w + orig_w), delta_h:(delta_h + orig_h)] = microenvironment[0]\n",
        "\n",
        "seed = np.float32(seed_prelim.T)\n",
        "# alternatively: ellipse filled with SOX2 positive cells \n",
        "\n",
        "\n",
        "# empty array to save log loss value in each training iteration \n",
        "loss_log_intermediate = []\n",
        "loss_log_final = []\n",
        "\n",
        "# schedule for the learning rate\n",
        "lr = 2e-3\n",
        "lr_sched = tf.keras.optimizers.schedules.PiecewiseConstantDecay(\n",
        "    [2000], [lr, lr*0.1])\n",
        "\n",
        "# define ADAM algorithm to optimize \n",
        "trainer = tf.keras.optimizers.Adam(lr_sched)\n",
        "\n",
        "# initial loss for seed (maximum loss)\n",
        "loss0_intermediate = loss_f(seed, pad_intermediate).numpy()\n",
        "loss0_final = loss_f(seed, pad_target).numpy()\n",
        "\n",
        "# initial set up of the batch pool\n",
        "pool = SamplePool(x=np.repeat(seed[None, ...], POOL_SIZE, 0))\n",
        "\n",
        "!mkdir -p train_log && rm -f train_log/*"
      ],
      "execution_count": 18,
      "outputs": []
    },
    {
      "cell_type": "code",
      "metadata": {
        "colab": {
          "base_uri": "https://localhost:8080/",
          "height": 576
        },
        "id": "li56wVeiqt5M",
        "outputId": "6a39bfa1-ae05-4374-dc0f-8396a5b92dce"
      },
      "source": [
        "#@title Plot seed and its microenvironment \n",
        "\n",
        "fig_seed, (ax1, ax2) = pl.subplots(ncols=1, nrows=2, figsize=(6, 10),\n",
        "                                sharex=True, sharey=True)\n",
        "\n",
        "ax1.set_title('seed')\n",
        "ax1.imshow(seed_prelim[0])\n",
        "\n",
        "ax2.set_title('microenvironment')\n",
        "ax2.imshow(seed_prelim[4])\n",
        "\n",
        "fig_seed.savefig('seed_microenv.eps', formate='eps')"
      ],
      "execution_count": 19,
      "outputs": [
        {
          "output_type": "display_data",
          "data": {
            "image/png": "[encoded data removed]",
            "text/plain": [
              "<Figure size 432x720 with 2 Axes>"
            ]
          },
          "metadata": {
            "needs_background": "light"
          }
        }
      ]
    },
    {
      "cell_type": "code",
      "metadata": {
        "colab": {
          "base_uri": "https://localhost:8080/",
          "height": 480
        },
        "id": "QzP_vDchq0d9",
        "outputId": "b340365f-989a-4042-9534-e440f823510b"
      },
      "source": [
        "#@title Training Loop {vertical-output: true}\n",
        "import time # to stop the time training takes\n",
        "# neural cellular automata (calling the object)\n",
        "ca_1 = CAModel()\n",
        "\n",
        "start = time.clock()\n",
        "for i in range(200+1): \n",
        "  x0 = np.repeat(seed[None, ...], BATCH_SIZE, 0)\n",
        "\n",
        "  x, loss_intermediate = train_intermediate(x0, pad_intermediate) \n",
        "\n",
        "  loss_log_intermediate.append(loss_intermediate.numpy())\n",
        "\n",
        "ca_2 = CAModel()\n",
        "#copy.deepcopy(ca_1)\n",
        "\n",
        "for i in range(200+1): \n",
        "  x, loss_final = train_final(x, pad_target)\n",
        "\n",
        "  loss_log_final.append(loss_final.numpy())\n",
        "  \n",
        "\n",
        "print('\\r 48 hours')\n",
        "plot_loss(loss_log_intermediate)\n",
        "print('\\r 60 hours')\n",
        "plot_loss(loss_log_final)\n",
        "\n",
        "end = time.clock()\n",
        "\n",
        "print('\\r training required %.3f seconds'%(end - start), end='')\n",
        "\n",
        "\n"
      ],
      "execution_count": 20,
      "outputs": [
        {
          "output_type": "stream",
          "name": "stdout",
          "text": [
            "\r 48 hours\n"
          ]
        },
        {
          "output_type": "display_data",
          "data": {
            "image/png": "[encoded data removed]",
            "text/plain": [
              "<Figure size 720x288 with 1 Axes>"
            ]
          },
          "metadata": {
            "needs_background": "light"
          }
        },
        {
          "output_type": "stream",
          "name": "stdout",
          "text": [
            "\r 60 hours\n"
          ]
        },
        {
          "output_type": "display_data",
          "data": {
            "image/png": "[encoded data removed]",
            "text/plain": [
              "<Figure size 720x288 with 1 Axes>"
            ]
          },
          "metadata": {
            "needs_background": "light"
          }
        },
        {
          "output_type": "stream",
          "name": "stdout",
          "text": [
            "\r training required 2536.761 seconds"
          ]
        }
      ]
    },
    {
      "cell_type": "code",
      "metadata": {
        "colab": {
          "base_uri": "https://localhost:8080/"
        },
        "id": "DOpNuobY6rR9",
        "outputId": "4f09064c-3854-4c3c-85cf-0628f2221189"
      },
      "source": [
        "print(loss_log_final)"
      ],
      "execution_count": null,
      "outputs": [
        {
          "output_type": "stream",
          "name": "stdout",
          "text": [
            "[0.03413371, 0.03413371, 0.03413371, 0.03413371, 0.03413371, 0.03413371, 0.03413371, 0.03413371, 0.03413371, 0.03413371, 0.03413371, 0.03413371, 0.03413371, 0.03413371, 0.03413371, 0.03413371, 0.03413371, 0.03413371, 0.03413371, 0.03413371, 0.03413371, 0.03413371, 0.03413371, 0.03413371, 0.03413371, 0.03413371, 0.03413371, 0.03413371, 0.03413371, 0.03413371, 0.03413371, 0.03413371, 0.03413371, 0.03413371, 0.03413371, 0.03413371, 0.03413371, 0.03413371, 0.03413371, 0.03413371, 0.03413371, 0.03413371, 0.03413371, 0.03413371, 0.03413371, 0.03413371, 0.03413371, 0.03413371, 0.03413371, 0.03413371, 0.03413371, 0.03413371, 0.03413371, 0.03413371, 0.03413371, 0.03413371, 0.03413371, 0.03413371, 0.03413371, 0.03413371, 0.03413371, 0.03413371, 0.03413371, 0.03413371, 0.03413371, 0.03413371, 0.03413371, 0.03413371, 0.03413371, 0.03413371, 0.03413371, 0.03413371, 0.03413371, 0.03413371, 0.03413371, 0.03413371, 0.03413371, 0.03413371, 0.03413371, 0.03413371, 0.03413371, 0.03413371, 0.03413371, 0.03413371, 0.03413371, 0.03413371, 0.03413371, 0.03413371, 0.03413371, 0.03413371, 0.03413371, 0.03413371, 0.03413371, 0.03413371, 0.03413371, 0.03413371, 0.03413371, 0.03413371, 0.03413371, 0.03413371, 0.03413371, 0.03413371, 0.03413371, 0.03413371, 0.03413371, 0.03413371, 0.03413371, 0.03413371, 0.03413371, 0.03413371, 0.03413371, 0.03413371, 0.03413371, 0.03413371, 0.03413371, 0.03413371, 0.03413371, 0.03413371, 0.03413371, 0.03413371, 0.03413371, 0.03413371, 0.03413371, 0.03413371, 0.03413371, 0.03413371, 0.03413371, 0.03413371, 0.03413371, 0.03413371, 0.03413371, 0.03413371, 0.03413371, 0.03413371, 0.03413371, 0.03413371, 0.03413371, 0.03413371, 0.03413371, 0.03413371, 0.03413371, 0.03413371, 0.03413371, 0.03413371, 0.03413371, 0.03413371, 0.03413371, 0.03413371, 0.03413371, 0.03413371, 0.03413371, 0.03413371, 0.03413371, 0.03413371, 0.03413371, 0.03413371, 0.03413371, 0.03413371, 0.03413371, 0.03413371, 0.03413371, 0.03413371, 0.03413371, 0.03413371, 0.03413371, 0.03413371, 0.03413371, 0.03413371, 0.03413371, 0.03413371, 0.03413371, 0.03413371, 0.03413371, 0.03413371, 0.03413371, 0.03413371, 0.03413371, 0.03413371, 0.03413371, 0.03413371, 0.03413371, 0.03413371, 0.03413371, 0.03413371, 0.03413371, 0.03413371, 0.03413371, 0.03413371, 0.03413371, 0.03413371, 0.03413371, 0.03413371, 0.03413371, 0.03413371, 0.03413371, 0.03413371, 0.03413371, 0.03413371, 0.03413371, 0.03413371, 0.03413371]\n"
          ]
        }
      ]
    },
    {
      "cell_type": "markdown",
      "metadata": {
        "id": "TNn88hqqG_zv"
      },
      "source": [
        "# Saving"
      ]
    },
    {
      "cell_type": "code",
      "metadata": {
        "id": "K9f-0KX17Qro"
      },
      "source": [
        "#@title Save models \n",
        "ca_1.save('NN_intermediate_default_params')\n",
        "ca_2.save('NN_final_default_params')\n",
        "\n",
        "%cp -R /content/NN_intermediate_default_params /content/gdrive/My\\ Drive/Neural_cellular_automata/\n",
        "%cp -R /content/NN_final_default_params /content/gdrive/My\\ Drive/Neural_cellular_automata/"
      ],
      "execution_count": null,
      "outputs": []
    },
    {
      "cell_type": "code",
      "metadata": {
        "id": "mLrqFYt6G8it"
      },
      "source": [
        "#@title Save loss \n",
        "\n",
        "import pickle\n",
        "\n",
        "file_name = 'loss_default_params.pckl'\n",
        "f = open(file_name, 'wb')\n",
        "pickle.dump([loss_log_intermediate, loss_log_final], f)\n",
        "f.close()"
      ],
      "execution_count": null,
      "outputs": []
    },
    {
      "cell_type": "code",
      "metadata": {
        "id": "o0EfYRzj_9rU"
      },
      "source": [
        "#@title Loading \n",
        "\n",
        "# 1. Model\n",
        "# https://stackoverflow.com/questions/53295570/userwarning-no-training-configuration-found-in-save-file-the-model-was-not-c\n",
        "loaded_model = tf.keras.models.load_model('NN_intermediate_default_params', \n",
        "                                          compile=False)\n",
        "loaded_model.weights\n"
      ],
      "execution_count": null,
      "outputs": []
    },
    {
      "cell_type": "code",
      "metadata": {
        "id": "0BTMAZ8jiqjS"
      },
      "source": [
        "#2. Variables\n",
        "# https://stackoverflow.com/questions/6568007/how-do-i-save-and-restore-multiple-variables-in-python\n",
        "file_name = 'loss_default_params.pckl'\n",
        "f = open(file_name, 'rb')\n",
        "obj = pickle.load(f)\n",
        "f.close()"
      ],
      "execution_count": null,
      "outputs": []
    },
    {
      "cell_type": "markdown",
      "metadata": {
        "id": "QAscSKkRaFwp"
      },
      "source": [
        "# Figures"
      ]
    },
    {
      "cell_type": "code",
      "metadata": {
        "id": "nqvkfl9W4ODI"
      },
      "source": [
        "#@title Training Progress (Checkpoints)\n",
        "\n",
        "models = []\n",
        "for i in [100, 200, 300]:\n",
        "# [100, 500, 1000, 4000]:\n",
        "  ca = CAModel()\n",
        "  ca.load_weights('train_log_intermediate/%04d'%i)\n",
        "  models.append(ca_1)\n",
        "\n",
        "out_fn = 'train_steps_damage_%d.mp4'%DAMAGE_N\n",
        "x = np.zeros([len(models), 72, 72, CHANNEL_N], np.float32)\n",
        "x[..., 36, 36, 3:] = 1.0\n",
        "with VideoWriter(out_fn) as vid:\n",
        "  for i in tqdm.trange(500):\n",
        "    vis = np.hstack(to_rgb(x))\n",
        "    vid.add(zoom(vis, 2))\n",
        "    for ca, xk in zip(models, x):\n",
        "      xk[:] = ca(xk[None,...])[0]\n",
        "mvp.ipython_display(out_fn)\n",
        "\n"
      ],
      "execution_count": null,
      "outputs": []
    },
    {
      "cell_type": "code",
      "metadata": {
        "id": "QeXZKb5v2gxj"
      },
      "source": [
        "#@title Training Progress (Batches)\n",
        "frames = sorted(glob.glob('train_log/batches_*.jpg'))\n",
        "mvp.ImageSequenceClip(frames, fps=10.0).write_videofile('batches.mp4')\n",
        "mvp.ipython_display('batches.mp4')"
      ],
      "execution_count": null,
      "outputs": []
    },
    {
      "cell_type": "code",
      "metadata": {
        "id": "B4JAbAJf6Alw"
      },
      "source": [
        "#@title Compare performance\n",
        "\n",
        "print(min(loss_log))\n",
        "\n",
        "# lizard: 4.293312e-05 \n",
        "# pig nose: 0.0001504272\n",
        "# stem cell \n",
        "  # 48h: 6.941299e-05\n",
        "  # 60h: 6.555613e-05\n",
        "\n",
        "# compare loss at the end "
      ],
      "execution_count": null,
      "outputs": []
    },
    {
      "cell_type": "markdown",
      "metadata": {
        "id": "ZzmG0FavLuhw"
      },
      "source": [
        "\n",
        "# Hyperparameter tuning \n"
      ]
    },
    {
      "cell_type": "code",
      "metadata": {
        "id": "rHorpxP2z6uW"
      },
      "source": [
        "#@title Define parameters \n",
        "\n",
        "# subsection Cellular Automata Parameters "
      ],
      "execution_count": null,
      "outputs": []
    },
    {
      "cell_type": "code",
      "metadata": {
        "id": "GNok2srn0IKC"
      },
      "source": [
        "#@title Compare performance of hyperparameter choice "
      ],
      "execution_count": null,
      "outputs": []
    }
  ]
}