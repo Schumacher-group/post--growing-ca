{
  "nbformat": 4,
  "nbformat_minor": 0,
  "metadata": {
    "colab": {
      "name": "Growing Neural Cellular Automata 2.0",
      "provenance": [],
      "collapsed_sections": [],
      "toc_visible": true,
      "include_colab_link": true
    },
    "kernelspec": {
      "display_name": "Python 3",
      "name": "python3"
    }
  },
  "cells": [
    {
      "cell_type": "markdown",
      "metadata": {
        "id": "view-in-github",
        "colab_type": "text"
      },
      "source": [
        "<a href=\"https://colab.research.google.com/github/Schumacher-group/post--growing-ca/blob/master/Growing_Neural_Cellular_Automata_2_0.ipynb\" target=\"_parent\"><img src=\"https://colab.research.google.com/assets/colab-badge.svg\" alt=\"Open In Colab\"/></a>"
      ]
    },
    {
      "cell_type": "markdown",
      "metadata": {
        "id": "28S76DVlfCMZ"
      },
      "source": [
        "# Growing Neural Cellular Automata\n",
        "\n",
        "This notebook contains code to reproduce experiments and figures for the [\"Growing Neural Cellular Automata\"](http://distill.pub/2020/growing-ca) article.\n",
        "\n",
        "Here one can find the [original code](https://colab.research.google.com/github/google-research/self-organising-systems/blob/master/notebooks/growing_ca.ipynb#scrollTo=QzP_vDchq0d9). \n",
        "\n",
        "Copyright 2020 Google LLC\n",
        "\n",
        "Licensed under the Apache License, Version 2.0 (the \"License\");\n",
        "you may not use this file except in compliance with the License.\n",
        "You may obtain a copy of the License at\n",
        "\n",
        "    https://www.apache.org/licenses/LICENSE-2.0\n",
        "\n",
        "Unless required by applicable law or agreed to in writing, software\n",
        "distributed under the License is distributed on an \"AS IS\" BASIS,\n",
        "WITHOUT WARRANTIES OR CONDITIONS OF ANY KIND, either express or implied.\n",
        "See the License for the specific language governing permissions and\n",
        "limitations under the License."
      ]
    },
    {
      "cell_type": "code",
      "metadata": {
        "colab": {
          "base_uri": "https://localhost:8080/"
        },
        "id": "2wgvkT26gpVN",
        "outputId": "bbb53ed1-f689-42d0-d4b3-4dae605266c7"
      },
      "source": [
        "\n",
        "from google.colab import drive\n",
        "drive.mount('/content/gdrive')\n",
        "\n",
        "# drive.flush_and_unmount()"
      ],
      "execution_count": 53,
      "outputs": [
        {
          "output_type": "stream",
          "name": "stdout",
          "text": [
            "Drive already mounted at /content/gdrive; to attempt to forcibly remount, call drive.mount(\"/content/gdrive\", force_remount=True).\n"
          ]
        }
      ]
    },
    {
      "cell_type": "code",
      "metadata": {
        "colab": {
          "base_uri": "https://localhost:8080/"
        },
        "id": "4oS0lgtZgpwn",
        "outputId": "a1d7e3bb-4df1-436d-c230-28d669399475"
      },
      "source": [
        "! ls"
      ],
      "execution_count": null,
      "outputs": [
        {
          "name": "stdout",
          "output_type": "stream",
          "text": [
            "gdrive\tsample_data\n"
          ]
        }
      ]
    },
    {
      "cell_type": "code",
      "metadata": {
        "colab": {
          "base_uri": "https://localhost:8080/"
        },
        "id": "rz2Hzd7AgqI_",
        "outputId": "c64ed371-1f4f-4187-ceda-09d5c96955a9"
      },
      "source": [
        "%cd gdrive/My Drive/Neural_cellular_automata"
      ],
      "execution_count": null,
      "outputs": [
        {
          "name": "stdout",
          "output_type": "stream",
          "text": [
            "/content/gdrive/My Drive/Neural_cellular_automata\n"
          ]
        }
      ]
    },
    {
      "cell_type": "code",
      "metadata": {
        "colab": {
          "base_uri": "https://localhost:8080/"
        },
        "id": "zq13CxOUguK9",
        "outputId": "649dd1ae-2372-4b3e-85c0-766ad2707817"
      },
      "source": [
        "! git clone https://github.com/Schumacher-group/post--growing-ca.git"
      ],
      "execution_count": null,
      "outputs": [
        {
          "name": "stdout",
          "output_type": "stream",
          "text": [
            "Cloning into 'post--growing-ca'...\n",
            "remote: Enumerating objects: 1096, done.\u001b[K\n",
            "remote: Counting objects: 100% (201/201), done.\u001b[K\n",
            "remote: Compressing objects: 100% (156/156), done.\u001b[K\n",
            "remote: Total 1096 (delta 116), reused 76 (delta 43), pack-reused 895\u001b[K\n",
            "Receiving objects: 100% (1096/1096), 22.99 MiB | 15.22 MiB/s, done.\n",
            "Resolving deltas: 100% (656/656), done.\n"
          ]
        }
      ]
    },
    {
      "cell_type": "code",
      "metadata": {
        "id": "i5wi_r4gyzFr"
      },
      "source": [
        "#@title Imports and Notebook Utilities\n",
        "%tensorflow_version 2.x\n",
        "\n",
        "%pip install \"dask[complete]\"\n",
        "!pip install aicsimageio\n",
        "!pip install aiohttp\n",
        "!pip install requests\n",
        "\n",
        "from aicsimageio import AICSImage\n",
        "# import os # interactions with the operating system \n",
        "import io # file-related input and output operations\n",
        "import PIL.Image, PIL.ImageDraw \n",
        "import base64\n",
        "import zipfile\n",
        "import json # compiled code is used to store and transport data\n",
        "import requests # allows to send http request in python to store data\n",
        "import numpy as np # support for multi-dimensional arrays and matrices\n",
        "import matplotlib.pylab as pl # necessary for visualizations\n",
        "import glob # pathnames\n",
        "\n",
        "import tensorflow as tf\n",
        "from tensorflow.keras.layers import Conv2D\n",
        "\n",
        "\n",
        "# for tuning \n",
        "from tensorflow import keras\n",
        "! pip install -q -U keras-tuner\n",
        "import keras_tuner as kt\n",
        "\n",
        "\n",
        "from IPython.display import Image, HTML, clear_output\n",
        "import tqdm # shows progress bar \n",
        "\n",
        "import os\n",
        "os.environ['FFMPEG_BINARY'] = 'ffmpeg' \n",
        "# program to process videos and files in command-line\n",
        "import moviepy.editor as mvp\n",
        "from moviepy.video.io.ffmpeg_writer import FFMPEG_VideoWriter\n",
        "\n",
        "import cv2 # to save videos \n",
        "\n",
        "clear_output()\n",
        "\n",
        "def np2pil(a):\n",
        "  if a.dtype in [np.float32, np.float64]:\n",
        "    a = np.uint8(np.clip(a, 0, 1)*255)\n",
        "  return PIL.Image.fromarray(a)\n",
        "\n",
        "def imwrite(f, a, fmt=None):\n",
        "  a = np.asarray(a)\n",
        "  if isinstance(f, str):\n",
        "    fmt = f.rsplit('.', 1)[-1].lower()\n",
        "    if fmt == 'jpg':\n",
        "      fmt = 'jpeg'\n",
        "    f = open(f, 'wb')\n",
        "  np2pil(a).save(f, fmt, quality=95)\n",
        "\n",
        "def imencode(a, fmt='jpeg'):\n",
        "  a = np.asarray(a)\n",
        "  if len(a.shape) == 3 and a.shape[-1] == 4:\n",
        "    fmt = 'png'\n",
        "  f = io.BytesIO()\n",
        "  imwrite(f, a, fmt)\n",
        "  return f.getvalue()\n",
        "\n",
        "def im2url(a, fmt='jpeg'):\n",
        "  encoded = imencode(a, fmt)\n",
        "  base64_byte_string = base64.b64encode(encoded).decode('ascii')\n",
        "  return 'data:image/' + fmt.upper() + ';base64,' + base64_byte_string\n",
        "\n",
        "def imshow(a, fmt='jpeg'):\n",
        "  display(Image(data=imencode(a, fmt)))\n",
        "\n",
        "def tile2d(a, w=None):\n",
        "  a = np.asarray(a)\n",
        "  if w is None:\n",
        "    w = int(np.ceil(np.sqrt(len(a))))\n",
        "  th, tw = a.shape[1:3]\n",
        "  pad = (w-len(a))%w\n",
        "  a = np.pad(a, [(0, pad)]+[(0, 0)]*(a.ndim-1), 'constant')\n",
        "  h = len(a)//w\n",
        "  a = a.reshape([h, w]+list(a.shape[1:]))\n",
        "  a = np.rollaxis(a, 2, 1).reshape([th*h, tw*w]+list(a.shape[4:]))\n",
        "  return a\n",
        "\n",
        "def zoom(img, scale=4):\n",
        "  img = np.repeat(img, scale, 0)\n",
        "  img = np.repeat(img, scale, 1)\n",
        "  return img\n",
        "\n",
        "class VideoWriter:\n",
        "  def __init__(self, filename, fps=30.0, **kw):\n",
        "    self.writer = None\n",
        "    self.params = dict(filename=filename, fps=fps, **kw)\n",
        "\n",
        "  def add(self, img):\n",
        "    img = np.asarray(img)\n",
        "    if self.writer is None:\n",
        "      h, w = img.shape[:2]\n",
        "      self.writer = FFMPEG_VideoWriter(size=(w, h), **self.params)\n",
        "    if img.dtype in [np.float32, np.float64]:\n",
        "      img = np.uint8(img.clip(0, 1)*255)\n",
        "    if len(img.shape) == 2:\n",
        "      img = np.repeat(img[..., None], 3, -1)\n",
        "    self.writer.write_frame(img)\n",
        "\n",
        "  def close(self):\n",
        "    if self.writer:\n",
        "      self.writer.close()\n",
        "\n",
        "  def __enter__(self):\n",
        "    return self\n",
        "\n",
        "  def __exit__(self, *kw):\n",
        "    self.close()"
      ],
      "execution_count": 54,
      "outputs": []
    },
    {
      "cell_type": "code",
      "metadata": {
        "id": "zR6I1JONmWBb"
      },
      "source": [
        "#@title Cellular Automata Parameters\n",
        "CHANNEL_N = 16        # Number of CA state channels\n",
        "TARGET_PADDING = CHANNEL_N   # Number of pixels used to pad the target image border\n",
        "TARGET_SIZE = 40\n",
        "\n",
        "BATCH_SIZE = 8 # for Experiment 1 unnecessary \n",
        "POOL_SIZE = 1024 # for Experiment 1 unnecessary \n",
        "\n",
        "CELL_FIRE_RATE = 0.5\n",
        "\n",
        "ADD_FRAME = 5\n",
        "\n",
        "TARGET_EMOJI = \"🦎\" #@param {type:\"string\"}\n",
        "# 🐽\n",
        "\n",
        "EXPERIMENT_TYPE = \"Growing\" #@param [\"Growing\", \"Persistent\", \"Regenerating\"]\n",
        "EXPERIMENT_MAP = {\"Growing\":0, \"Persistent\":1, \"Regenerating\":2}\n",
        "EXPERIMENT_N = EXPERIMENT_MAP[EXPERIMENT_TYPE]\n",
        "\n",
        "# manual selection of growing \n",
        "USE_PATTERN_POOL = [0][0]\n",
        "# [0, 1, 1][EXPERIMENT_N]\n",
        "DAMAGE_N = [0][0]\n",
        "# [0, 0, 3][EXPERIMENT_N]  # Number of patterns to damage in a batch"
      ],
      "execution_count": 55,
      "outputs": []
    },
    {
      "cell_type": "code",
      "metadata": {
        "id": "lCbPFbI_zosW"
      },
      "source": [
        "#@title CA Utilities\n",
        "\n",
        "def to_rgba(x):\n",
        "  return x[..., :4]\n",
        "\n",
        "def to_alpha(x):\n",
        "  # input is a tensor\n",
        "  # clips values at min 0 and max 1\n",
        "  return tf.clip_by_value(x[..., 3:4], 0.0, 1.0)\n",
        "\n",
        "def to_rgb(x):\n",
        "  # assume rgb premultiplied by alpha\n",
        "  rgb, a = x[..., :3], to_alpha(x)\n",
        "  return 1.0-a+rgb\n",
        "\n",
        "def get_living_mask(x):\n",
        "  alpha = x[:, :, :, 3:4]\n",
        "  # performs max pooling on input \n",
        "  # window size 3\n",
        "  # stride of the window when sliding \n",
        "  # SAME padding \n",
        "  return tf.nn.max_pool2d(alpha, 3, [1, 1, 1, 1], 'SAME') > 0.1\n",
        "\n",
        "def get_environment(x):\n",
        "  # obtain information of environment shape from fivth column \n",
        "  microenvironment = x[:, :, :, 4:5]\n",
        "  return microenvironment \n",
        "\n",
        "def make_seed(size, n=1):\n",
        "  # initialize tensor of certain shape with 0\n",
        "  x = np.zeros([n, size, size, CHANNEL_N], np.float32)\n",
        "  x[:, size//2, size//2, 3:] = 1.0\n",
        "  return x\n"
      ],
      "execution_count": 56,
      "outputs": []
    },
    {
      "cell_type": "code",
      "metadata": {
        "colab": {
          "base_uri": "https://localhost:8080/"
        },
        "id": "3utkyZypJC63",
        "outputId": "2b03eaa2-80b7-4a74-9f85-569c8b24bc63"
      },
      "source": [
        "#@title CA Model \n",
        "\n",
        "\n",
        "class CAModel(tf.keras.Model):\n",
        "  def __init__(self,\n",
        "               first_NN = True, \n",
        "               first_layer=128, \n",
        "               channel_n=CHANNEL_N, \n",
        "               fire_rate=CELL_FIRE_RATE, \n",
        "               kernel_1=None, bias_1=None,\n",
        "               kernel_2=None, bias_2=None\n",
        "  ):\n",
        "    super().__init__() # initialize \n",
        "    self.channel_n = channel_n\n",
        "    self.fire_rate = fire_rate\n",
        "    self.first_layer = first_layer\n",
        "    self.first_NN = first_NN\n",
        "\n",
        "    # define neural network after convolution layer \n",
        "    # with ReLU activation and simple linear transformation for output\n",
        "    if self.first_NN: \n",
        "      self.dmodel = tf.keras.Sequential([\n",
        "          Conv2D(self.first_layer, 1, activation=tf.nn.relu),\n",
        "          Conv2D(self.channel_n, 1, activation=None,\n",
        "              kernel_initializer=tf.zeros_initializer),\n",
        "              ])\n",
        "    else: \n",
        "      self.kernel_1 = kernel_1\n",
        "      self.kernel_2 = kernel_2\n",
        "\n",
        "      self.bias_1 = bias_1\n",
        "      self.bias_2 = bias_2\n",
        "\n",
        "      self.dmodel = tf.keras.Sequential([\n",
        "          Conv2D(self.first_layer, 1, activation=tf.nn.relu, \n",
        "                 kernel_initializer = self.kernel_1, \n",
        "                 bias_initializer = self.bias_1),\n",
        "          Conv2D(self.channel_n, 1, activation=None,\n",
        "                 kernel_initializer = self.kernel_2, \n",
        "                 bias_initializer = self.bias_2),\n",
        "              ])\n",
        "\n",
        "    self(tf.zeros([1, 3, 3, channel_n]))  # dummy call to build the model\n",
        "  \n",
        "  \n",
        "  @tf.function\n",
        "  def perceive(self, x, angle=0.0):\n",
        "    identify = np.float32([0, 1, 0])\n",
        "    # 3 filter \n",
        "    # 1. identity filter\n",
        "    identify = np.outer(identify, identify)\n",
        "    # Sobel filter for x-axis\n",
        "    dx = np.outer([1, 2, 1], [-1, 0, 1]) / 8.0 \n",
        "    # Sobel filter for y-axis\n",
        "    dy = dx.T\n",
        "\n",
        "    # possible rotation \n",
        "    c, s = tf.cos(angle), tf.sin(angle)\n",
        "\n",
        "    kernel = tf.stack([identify, c*dx-s*dy, s*dx+c*dy], -1)[:, :, None, :]\n",
        "    kernel = tf.repeat(kernel, self.channel_n, 2)\n",
        "\n",
        "    # construct perception vector through convolution layer \n",
        "    y = tf.nn.depthwise_conv2d(x, kernel, [1, 1, 1, 1], 'SAME')\n",
        "    return y\n",
        "\n",
        "  @tf.function\n",
        "  # implement forward pass of layers in init() function \n",
        "  def call(self, x, fire_rate=None, angle=0.0, step_size=1.0):\n",
        "    pre_life_mask = get_living_mask(x)\n",
        "\n",
        "    y = self.perceive(x, angle)\n",
        "    \n",
        "    # residual update for new cell stage \n",
        "    dx = self.dmodel(y)*step_size\n",
        "\n",
        "    # stochastic update of cells \n",
        "    if fire_rate is None:\n",
        "      fire_rate = self.fire_rate\n",
        "    update_mask = tf.random.uniform(tf.shape(x[:, :, :, :1])) <= fire_rate\n",
        "    # output of neural network, masked by stochasticity \n",
        "    x += dx * tf.cast(update_mask, tf.float32)\n",
        "\n",
        "    post_life_mask = get_living_mask(x)\n",
        "    # check for aliveness of cells pre and post update \n",
        "    # (only if alive at both times a non-zero state is valid)\n",
        "    life_mask = pre_life_mask & post_life_mask\n",
        "\n",
        "    # environment_mask = get_environment(x)\n",
        "    return x * tf.cast(life_mask, tf.float32) \n",
        "    # * tf.cast(environment_mask, tf.float32)\n",
        "\n",
        "# output model summary \n",
        "CAModel().dmodel.summary()"
      ],
      "execution_count": 57,
      "outputs": [
        {
          "output_type": "stream",
          "name": "stdout",
          "text": [
            "Model: \"sequential_1\"\n",
            "_________________________________________________________________\n",
            "Layer (type)                 Output Shape              Param #   \n",
            "=================================================================\n",
            "conv2d_2 (Conv2D)            (1, 3, 3, 128)            6272      \n",
            "_________________________________________________________________\n",
            "conv2d_3 (Conv2D)            (1, 3, 3, 16)             2064      \n",
            "=================================================================\n",
            "Total params: 8,336\n",
            "Trainable params: 8,336\n",
            "Non-trainable params: 0\n",
            "_________________________________________________________________\n"
          ]
        }
      ]
    },
    {
      "cell_type": "markdown",
      "metadata": {
        "id": "-BZLjFeVmG5h"
      },
      "source": [
        "# Input Images\n"
      ]
    },
    {
      "cell_type": "code",
      "metadata": {
        "id": "r0gLpDwrHMxq"
      },
      "source": [
        "#@title Functions for image loading \n",
        "\n",
        "# dimensions of image arrays: Heigth, Width, Depth \n",
        "\n",
        "# OLD\n",
        "def load_image(url, max_size=TARGET_SIZE):\n",
        "  r = requests.get(url)\n",
        "  img = PIL.Image.open(io.BytesIO(r.content))\n",
        "  img.thumbnail((max_size, max_size), PIL.Image.ANTIALIAS)\n",
        "  img = np.float32(img)/255.0\n",
        "  # premultiply RGB by Alpha\n",
        "  img[..., :3] *= img[..., 3:]\n",
        "  return img\n",
        "\n",
        "# OLD\n",
        "# adapted function to read mouse stem cell image\n",
        "def load_image_real(url, max_size): \n",
        "  r = requests.get(url)\n",
        "  img = PIL.Image.open(io.BytesIO(r.content))\n",
        "\n",
        "  # resize the image \n",
        "  img.thumbnail((max_size, max_size), PIL.Image.ANTIALIAS)\n",
        "  \n",
        "  img = np.float32(img)/255.0 \n",
        "  # 255 as maximum value for white possible, normalization\n",
        "\n",
        "  # define alpha vector (default 1)\n",
        "  insert_alpha = [[1]] * max_size\n",
        "\n",
        "  # add alpha entry \n",
        "  img_alpha = np.empty(shape = (len(img), max_size, 4), dtype='object')\n",
        "\n",
        "\n",
        "  # insert alpha channel \n",
        "  for i in range(len(img)):\n",
        "    subsec = img[i:i+1, ...][0, ...] \n",
        "    subsec = np.append(subsec, insert_alpha, axis = 1)\n",
        "    img_alpha[i:i+1, ...] = subsec\n",
        "\n",
        "\n",
        "  # get (i, j) positions of all RGB pixels that are black (i.e. [0, 0, 0])\n",
        "  black_pixels = np.where(\n",
        "      (img_alpha[:, :, 0] < 0.3) & \n",
        "      (img_alpha[:, :, 1] < 0.3) & \n",
        "      (img_alpha[:, :, 2] < 0.3)\n",
        "  )\n",
        "\n",
        "  # set those pixels to white\n",
        "  img_alpha[black_pixels] = [1., 1., 1., 0.]\n",
        "\n",
        "  # encode as float number \n",
        "  img_alpha = np.float32(img_alpha)\n",
        "  \n",
        "  # premultiply RGB by Alpha\n",
        "  img_alpha[..., :3] *= img_alpha[..., 3:]\n",
        "\n",
        "  return(img_alpha)\n",
        "\n",
        "# OLD\n",
        "def load_emoji(emoji):\n",
        "  code = hex(ord(emoji))[2:].lower()\n",
        "  url = 'https://github.com/googlefonts/noto-emoji/blob/main/png/128/emoji_u%s.png?raw=true'%code\n",
        "  return load_image(url)\n",
        "\n",
        "\n",
        "# USED\n",
        "\n",
        "# adds dark frame around cell colony to enable edge detection\n",
        "def framed(image, add_frame):\n",
        "  frame_value = image[0, 0, 0]\n",
        "\n",
        "  image_height = image.shape[1]\n",
        "  image_width = image.shape[2]\n",
        "\n",
        "  desired_height = image_height + 2 * add_frame\n",
        "  desired_width = image_width + 2 * add_frame\n",
        "\n",
        "  frame = np.full((1, desired_height, desired_width), frame_value, dtype = np.float32)\n",
        "\n",
        "  frame[0, add_frame:add_frame + image.shape[1], add_frame:add_frame + image.shape[2]] = image\n",
        "\n",
        "  return frame\n",
        "\n",
        "def load_image_tiff(url, add_frame):\n",
        "  img = AICSImage(url)\n",
        "\n",
        "  # read inividual channels and add frame \n",
        "  # GSC\n",
        "  image0 = framed(np.float32(img.get_image_data('ZYX',T=0,C=0)), add_frame)\n",
        "  # Lamina B\n",
        "  image1 = framed(np.float32(img.get_image_data('ZYX',T=0,C=1)), add_frame)\n",
        "  # SOX2\n",
        "  image2 = framed(np.float32(img.get_image_data('ZYX',T=0,C=2)), add_frame)\n",
        "  # Brachyury (T)\n",
        "  image3 = framed(np.float32(img.get_image_data('ZYX',T=0,C=3)), add_frame)\n",
        "\n",
        "  # determine ellipse\n",
        "  # define pixels outside of ellipse as dead\n",
        "  #outside_ellipse = np.where(image1[:, :, :] < 250)\n",
        "  #image1[outside_ellipse] = 0\n",
        "\n",
        "  # concatenate channel arrays \n",
        "  image = np.concatenate((image0, image2, image3, image1), \n",
        "                         axis=0)\n",
        "  img = np.float32(image)\n",
        "\n",
        "  # set all dead pixels outside ellipse to 0 \n",
        "  #img[:3, ...] *= img[3:, ...] \n",
        "  return img, image0, image1, image2, image3\n"
      ],
      "execution_count": 58,
      "outputs": []
    },
    {
      "cell_type": "code",
      "metadata": {
        "colab": {
          "base_uri": "https://localhost:8080/",
          "height": 171
        },
        "id": "zKlA50h0jlvl",
        "outputId": "471a17a4-3929-4e68-b6b5-128f72a6a6de"
      },
      "source": [
        "#@title Read RGB Image { vertical-output: true}\n",
        "\n",
        "# width of the target image (height constructed porportionally)\n",
        "desired_size = 50 \n",
        "\n",
        "\n",
        "# 1) mouse stem cell image as input \n",
        "  # a. after 48 hours\n",
        "url_cell_intermediate ='https://raw.githubusercontent.com/Schumacher-group/post--growing-ca/master/data/S2_48h_Col_1_scaled(RGB)_212x129.tif?raw=true'\n",
        "\n",
        "  # b. after 60 hours\n",
        "url_cell_final = 'https://raw.githubusercontent.com/Schumacher-group/post--growing-ca/master/data/S2_60h_Col_1_scaled(RGB)_217x129.tif?raw=true'\n",
        "\n",
        "intermediate_old = load_image_real(url_cell_intermediate, desired_size)\n",
        "final_old = load_image_real(url_cell_final, desired_size)\n",
        "\n",
        "\n",
        "# 2) emoji as input  \n",
        "# target_img = load_emoji(TARGET_EMOJI)\n",
        "\n",
        "imshow(zoom(to_rgb(intermediate_old), 2), fmt='png')\n",
        "imshow(zoom(to_rgb(final_old), 2), fmt='png')\n",
        "\n",
        "print(intermediate_old.shape)\n",
        "print(final_old.shape)\n"
      ],
      "execution_count": 78,
      "outputs": [
        {
          "output_type": "display_data",
          "data": {
            "image/png": "[encoded data removed]",
            "text/plain": [
              "<IPython.core.display.Image object>"
            ]
          },
          "metadata": {}
        },
        {
          "output_type": "display_data",
          "data": {
            "image/png": "[encoded data removed]",
            "text/plain": [
              "<IPython.core.display.Image object>"
            ]
          },
          "metadata": {}
        },
        {
          "output_type": "stream",
          "name": "stdout",
          "text": [
            "(30, 50, 4)\n",
            "(30, 50, 4)\n"
          ]
        }
      ]
    },
    {
      "cell_type": "code",
      "metadata": {
        "colab": {
          "base_uri": "https://localhost:8080/"
        },
        "id": "SLRqrpyWhA0C",
        "outputId": "2066c771-7daf-44b9-fb20-1b8a2fbafa50"
      },
      "source": [
        "#@title Read TIFF image { vertical-output: true}\n",
        "\n",
        "# Documentation: https://allencellmodeling.github.io/aicsimageio/aicsimageio.aics_image.AICSImage.html\n",
        "\n",
        "url_intermediate = 'https://github.com/Schumacher-group/post--growing-ca/blob/master/data/48_h_downsized-2.tif?raw=true'\n",
        "#'https://github.com/Schumacher-group/post--growing-ca/blob/master/data/S2_48h_Col_1_scaled.tif?raw=true'\n",
        "url_final = 'https://github.com/Schumacher-group/post--growing-ca/blob/master/data/60_h_downsized.tif?raw=true'\n",
        "# 'https://raw.githubusercontent.com/Schumacher-group/post--growing-ca/master/data/S2_60h_Col_1_scaled.tif?raw=true'\n",
        "\n",
        "img_intermediate_prelim, image_intermediate_GSC, image_intermediate_lamina, image_intermediate_SOX2, image_intermediate_TBRA = load_image_tiff(url_intermediate, ADD_FRAME)\n",
        "img_final_prelim, image_final_GSC, image_final_lamina, image_final_SOX2, image_final_TBRA = load_image_tiff(url_final, ADD_FRAME)\n",
        "\n",
        "# transpose necessary to bring into wanted formate \n",
        "intermediate_img = img_intermediate_prelim.T\n",
        "target_img = img_final_prelim.T\n",
        "\n",
        "print(intermediate_img.shape)\n",
        "print(target_img.shape)\n"
      ],
      "execution_count": 59,
      "outputs": [
        {
          "output_type": "stream",
          "name": "stderr",
          "text": [
            "Failed to parse XML for the provided file.\n",
            "not well-formed (invalid token): line 1, column 6\n",
            "Failed to parse XML for the provided file.\n",
            "not well-formed (invalid token): line 1, column 6\n"
          ]
        },
        {
          "output_type": "stream",
          "name": "stdout",
          "text": [
            "(58, 26, 4)\n",
            "(58, 26, 4)\n"
          ]
        }
      ]
    },
    {
      "cell_type": "code",
      "metadata": {
        "colab": {
          "base_uri": "https://localhost:8080/",
          "height": 810
        },
        "id": "AFRVVN0Q2kDK",
        "outputId": "70728ade-e894-41b8-e5dc-b846dd485360"
      },
      "source": [
        "#@title Plot channels to intermediate image { vertical-output: true}\n",
        "from matplotlib import pyplot as plt\n",
        "\n",
        "# image_intermediate_lamina[0]\n",
        "# image_intermediate_GSC[0]\n",
        "# image_intermediate_SOX2[0]\n",
        "# image_intermediate_TBRA[0]\n",
        "# plot original image and edges \n",
        "fig2, (ax1, ax2, ax3, ax4) = pl.subplots(ncols=1, nrows=4, figsize=(6, 14),\n",
        "                                sharex=True, sharey=True)\n",
        "\n",
        "ax1.set_title('Lamina 48h')\n",
        "ax1.imshow(image_intermediate_lamina[0])\n",
        "\n",
        "ax2.set_title('GSC')\n",
        "ax2.imshow(image_intermediate_GSC[0])\n",
        "\n",
        "ax3.set_title('SOX2')\n",
        "ax3.imshow(image_intermediate_SOX2[0])\n",
        "\n",
        "ax4.set_title('TBRA')\n",
        "ax4.imshow(image_intermediate_TBRA[0])\n",
        "\n",
        "pl.show()\n",
        "\n",
        "fig2.savefig('48_h_compare_channels.eps', format='eps')\n",
        "plt.close(fig2)\n",
        "\n",
        "\n"
      ],
      "execution_count": 70,
      "outputs": [
        {
          "output_type": "display_data",
          "data": {
            "image/png": "[encoded data removed]",
            "text/plain": [
              "<Figure size 432x1008 with 4 Axes>"
            ]
          },
          "metadata": {
            "needs_background": "light"
          }
        }
      ]
    },
    {
      "cell_type": "code",
      "metadata": {
        "colab": {
          "base_uri": "https://localhost:8080/",
          "height": 810
        },
        "id": "5w7WPsrdkUVR",
        "outputId": "297e422e-f1a7-4ba5-83d9-c4dd3eda755d"
      },
      "source": [
        "#@title Plot channels to final image { vertical-output: true}\n",
        "\n",
        "#pl.imshow(image_final_GSC[0])\n",
        "# image_final_GSC[0]\n",
        "# image_final_SOX2[0]\n",
        "# image_final_lamina[0]\n",
        "# image_final_TBRA[0]\n",
        "\n",
        "fig3, (ax1, ax2, ax3, ax4) = pl.subplots(ncols=1, nrows=4, figsize=(6, 14),\n",
        "                                sharex=True, sharey=True)\n",
        "\n",
        "ax1.set_title('Lamina 60h')\n",
        "ax1.imshow(image_final_lamina[0])\n",
        "\n",
        "ax2.set_title('GSC')\n",
        "ax2.imshow(image_final_GSC[0])\n",
        "\n",
        "ax3.set_title('SOX2')\n",
        "ax3.imshow(image_final_SOX2[0])\n",
        "\n",
        "ax4.set_title('TBRA')\n",
        "ax4.imshow(image_final_TBRA[0])\n",
        "\n",
        "pl.show()\n",
        "\n",
        "fig3.savefig('60_h_compare_channels.eps', format='eps')\n",
        "plt.close(fig3)\n"
      ],
      "execution_count": 71,
      "outputs": [
        {
          "output_type": "display_data",
          "data": {
            "image/png": "[encoded data removed]",
            "text/plain": [
              "<Figure size 432x1008 with 4 Axes>"
            ]
          },
          "metadata": {
            "needs_background": "light"
          }
        }
      ]
    },
    {
      "cell_type": "code",
      "metadata": {
        "colab": {
          "base_uri": "https://localhost:8080/"
        },
        "id": "isjP_YMa9Qhf",
        "outputId": "5ba88166-5a59-42ea-d5c1-1039757566c8"
      },
      "source": [
        "#@title Calculate size and range of arrays { vertical-output: true}\n",
        "\n",
        "def minmax(image):\n",
        "  minimum = min(min(image[0].tolist()))\n",
        "  maximum = max(max(image[0].tolist()))\n",
        "  return minimum, maximum\n",
        "\n",
        "print(minmax(image_final_GSC))\n",
        "print(minmax(image_final_lamina))\n",
        "print(minmax(image_final_SOX2))\n",
        "print(minmax(image_final_TBRA))\n"
      ],
      "execution_count": 74,
      "outputs": [
        {
          "output_type": "stream",
          "name": "stdout",
          "text": [
            "(2267.0, 26130.0)\n",
            "(1573.0, 45361.0)\n",
            "(2396.0, 28822.0)\n",
            "(1594.0, 41641.0)\n"
          ]
        }
      ]
    },
    {
      "cell_type": "code",
      "metadata": {
        "colab": {
          "base_uri": "https://localhost:8080/"
        },
        "id": "t74z64ftRab3",
        "outputId": "c8f2504f-aa8e-4953-d00e-f4656578ec09"
      },
      "source": [
        "print(image_final_lamina)"
      ],
      "execution_count": 76,
      "outputs": [
        {
          "output_type": "stream",
          "name": "stdout",
          "text": [
            "[[[1625. 1625. 1625. ... 1625. 1625. 1625.]\n",
            "  [1625. 1625. 1625. ... 1625. 1625. 1625.]\n",
            "  [1625. 1625. 1625. ... 1625. 1625. 1625.]\n",
            "  ...\n",
            "  [1625. 1625. 1625. ... 1625. 1625. 1625.]\n",
            "  [1625. 1625. 1625. ... 1625. 1625. 1625.]\n",
            "  [1625. 1625. 1625. ... 1625. 1625. 1625.]]]\n"
          ]
        }
      ]
    },
    {
      "cell_type": "code",
      "metadata": {
        "colab": {
          "base_uri": "https://localhost:8080/",
          "height": 627
        },
        "id": "ekLRN2VeyJkg",
        "outputId": "ccf69701-7d75-4755-f764-de7a02d25dbd"
      },
      "source": [
        "#@title Read average data { vertical-output: true}\n",
        "\n",
        "# Importing necessary Libraries\n",
        "import numpy as np\n",
        "import pandas as pd\n",
        "\n",
        "from skimage.transform import hough_ellipse\n",
        "\n",
        "# Read table\n",
        "# Read the data as a pandas frame\n",
        "df = pd.read_csv(\"https://github.com/Schumacher-group/post--growing-ca/blob/master/data/210427_S2_results?raw=true\", sep='\\t')\n",
        "print(df.columns)\n",
        "\n",
        "# Remove all nuclei too close from pattern autofluorescence\n",
        "df = df.loc[df['Normalised Coordinate 2'] > -3]\n",
        "\n",
        "\n",
        "# define markers\n",
        "markers = [\"SOX2\", \"TBRA\", \"GSC\"]\n",
        "\n",
        "# define timepoints (conditions)\n",
        "timepoints = [\"36h\", \"48h\", \"60h\"]\n",
        "timepoint = '60h'\n",
        "\n",
        "# create a new column to specify conditions\n",
        "predicates = [(df['Image Name'].str.contains(x)) for x in timepoints]\n",
        "df['Time Point'] = np.select(predicates, timepoints)\n",
        "df[['Image Name', 'Time Point']].head()\n",
        "\n",
        "\n",
        "# subset data acc. to timepoint \n",
        "df_subset = df.loc[df['Time Point']==timepoint]\n",
        "  \n",
        "# isolate relevant columns \n",
        "y = df_subset['Normalised Coordinate 0']\n",
        "x = df_subset['Normalised Coordinate 1']\n",
        "points = df_subset[['Normalised Coordinate 1', 'Normalised Coordinate 0']]\n",
        "\n",
        "# mean intensity for marker proteins \n",
        "SOX2 = df_subset['Mean Intensity SOX2']\n",
        "TBRA = df_subset['Mean Intensity TBRA']\n",
        "GSC = df_subset['Mean Intensity GSC']\n",
        "\n",
        "# number of bins to which image will be alloted\n",
        "bin_number = 48\n",
        "\n",
        "# create array with count entries for each bin\n",
        "H, xedges, yedges = np.histogram2d(x, y, bins = bin_number)\n",
        "H = H.T\n",
        "\n",
        "# create second array to use as a divisor\n",
        "H_divisor = np.histogram2d(x, y, bins = bin_number)[0].T\n",
        "H_divisor[np.where(H == 0)] = 1\n",
        "\n",
        "# create arrays with sum of mean intensities and divide to get mean of mean intensities\n",
        "H_SOX2 = np.histogram2d(x, y, bins = bin_number, weights=SOX2)[0].T\n",
        "H_mean_SOX2 = H_SOX2/ H_divisor\n",
        "H_TBRA = np.histogram2d(x, y, bins = bin_number, weights=TBRA)[0].T\n",
        "H_mean_TBRA = H_TBRA / H_divisor\n",
        "H_GSC = np.histogram2d(x, y, bins = bin_number, weights=GSC)[0].T\n",
        "H_mean_GSC = H_GSC / H_divisor\n",
        "\n",
        "# create dead / alive column as a binary column \n",
        "H_lamina = np.histogram2d(x, y, bins = bin_number)[0].T\n",
        "H_lamina[np.where(H_lamina != 0)] = 1\n",
        "\n",
        "\n",
        "\n",
        "H_mean_SOX2_reformated = H_mean_SOX2.reshape((H_mean_SOX2.shape[0], H_mean_SOX2.shape[1], 1))\n",
        "H_mean_TBRA_reformated = H_mean_TBRA.reshape((H_mean_TBRA.shape[0], H_mean_TBRA.shape[1], 1))\n",
        "H_mean_GSC_reformated = H_mean_GSC.reshape((H_mean_GSC.shape[0], H_mean_GSC.shape[1], 1))\n",
        "H_lamina_reformated = H_lamina.reshape((H_lamina.shape[0], H_lamina.shape[1], 1))\n",
        "\n",
        "\n",
        "\n",
        "H_array = np.concatenate((H_mean_SOX2_reformated, \n",
        "                          H_mean_TBRA_reformated, \n",
        "                          H_mean_GSC_reformated, \n",
        "                          H_lamina_reformated), axis = 2)\n",
        "\n",
        "# Visualization and check\n",
        "pl.imshow(H_SOX2)\n",
        "#pl.imshow(H_mean_GSC)\n",
        "#pl.imshow(H_mean_TBRA)\n",
        "#pl.imshow(H_lamina, vmax = 1)\n",
        "\n",
        "# print(H_array.shape)\n"
      ],
      "execution_count": 64,
      "outputs": [
        {
          "output_type": "stream",
          "name": "stdout",
          "text": [
            "Index(['Centroid X', 'Centroid Y', 'Centroid Z', 'Database ID', 'Image Name',\n",
            "       'Intensity Variance GSC', 'Intensity Variance LMBR',\n",
            "       'Intensity Variance SOX2', 'Intensity Variance TBRA', 'Is Border',\n",
            "       'Kurtosis Intensity GSC', 'Kurtosis Intensity LMBR',\n",
            "       'Kurtosis Intensity SOX2', 'Kurtosis Intensity TBRA', 'Location X',\n",
            "       'Location Y', 'Location Z', 'Max Intensity GSC', 'Max Intensity LMBR',\n",
            "       'Max Intensity SOX2', 'Max Intensity TBRA', 'Mean Intensity GSC',\n",
            "       'Mean Intensity LMBR', 'Mean Intensity SOX2', 'Mean Intensity TBRA',\n",
            "       'Median Intensity GSC', 'Median Intensity LMBR',\n",
            "       'Median Intensity SOX2', 'Median Intensity TBRA', 'Min Intensity GSC',\n",
            "       'Min Intensity LMBR', 'Min Intensity SOX2', 'Min Intensity TBRA',\n",
            "       'Normalised Coordinate 0', 'Normalised Coordinate 1',\n",
            "       'Normalised Coordinate 2', 'Second Moment 0', 'Second Moment 1',\n",
            "       'Second Moment 2', 'Sum Intensity GSC', 'Sum Intensity LMBR',\n",
            "       'Sum Intensity SOX2', 'Sum Intensity TBRA', 'bounding box maximum X',\n",
            "       'bounding box maximum Y', 'bounding box maximum Z',\n",
            "       'bounding box minimum X', 'bounding box minimum Y',\n",
            "       'bounding box minimum Z', 'label', 'volume', 'Unnamed: 51'],\n",
            "      dtype='object')\n"
          ]
        },
        {
          "output_type": "execute_result",
          "data": {
            "text/plain": [
              "<matplotlib.image.AxesImage at 0x7f8c8f943710>"
            ]
          },
          "metadata": {},
          "execution_count": 64
        },
        {
          "output_type": "display_data",
          "data": {
            "image/png": "[encoded data removed]",
            "text/plain": [
              "<Figure size 432x288 with 1 Axes>"
            ]
          },
          "metadata": {
            "needs_background": "light"
          }
        }
      ]
    },
    {
      "cell_type": "code",
      "metadata": {
        "colab": {
          "base_uri": "https://localhost:8080/",
          "height": 150
        },
        "id": "FuueLSBl4OiG",
        "outputId": "ecbcc506-e9d3-44e1-8978-a96c3d83c57d"
      },
      "source": [
        "#@title Compute and visualize complex hull (I) { vertical-output: true}\n",
        "\n",
        "from skimage import data, color, img_as_ubyte\n",
        "from skimage.feature import canny\n",
        "from skimage.transform import hough_ellipse\n",
        "from skimage.draw import ellipse_perimeter\n",
        "\n",
        "# example code from https://scikit-image.org/docs/dev/auto_examples/edges/plot_circular_elliptical_hough_transform.html#sphx-glr-auto-examples-edges-plot-circular-elliptical-hough-transform-py\n",
        "# example image: image_coffee = data.coffee()[0:220, 160:420]\n",
        "\n",
        "\n",
        "# calculate edges \n",
        "def calculate_edges(image_array, sigma_p = 6):\n",
        "  edges = canny(image_array, sigma=sigma_p)\n",
        "  return edges\n",
        "\n",
        "def calculate_hull(edges): \n",
        "# calculate complex hull \n",
        "  result = hough_ellipse(edges)\n",
        "  result.sort(order='accumulator')\n",
        "\n",
        "  best = list(result[-1])\n",
        "  yc, xc, a, b = [int(round(x)) for x in best[1:5]]\n",
        "  orientation = best[5]\n",
        "\n",
        "# Draw the ellipse on the original image\n",
        "  cy, cx = ellipse_perimeter(yc, xc, a, b, orientation)\n",
        "\n",
        "  edges = color.gray2rgb(img_as_ubyte(edges))\n",
        "  edges[cy, cx] = (250, 0, 0)\n",
        "  return edges\n",
        "\n",
        "\n",
        "input_array = np.squeeze(image_intermediate_GSC, axis = 0)\n",
        "edges = calculate_edges(input_array, sigma_p = 3)\n",
        "\n",
        "\n",
        "# plot original image and edges \n",
        "fig4, (ax1, ax2) = pl.subplots(ncols=2, nrows=1, figsize=(8, 4),\n",
        "                                sharex=True, sharey=True)\n",
        "\n",
        "ax1.set_title('Original picture')\n",
        "ax1.imshow(input_array)\n",
        "\n",
        "ax2.set_title('Edge')\n",
        "ax2.imshow(edges)\n",
        "\n",
        "\n",
        "\n",
        "pl.show()\n"
      ],
      "execution_count": 14,
      "outputs": [
        {
          "output_type": "display_data",
          "data": {
            "image/png": "[encoded data removed]",
            "text/plain": [
              "<Figure size 576x288 with 2 Axes>"
            ]
          },
          "metadata": {
            "needs_background": "light"
          }
        }
      ]
    },
    {
      "cell_type": "code",
      "metadata": {
        "colab": {
          "base_uri": "https://localhost:8080/",
          "height": 432
        },
        "id": "kOyyoHohpXNC",
        "outputId": "adb2cb82-23ec-413e-876b-862893edb298"
      },
      "source": [
        "#@title Compute and visualize complex hull (II) { vertical-output: true}\n",
        "import time\n",
        "from scipy.spatial import ConvexHull\n",
        "\n",
        "# code adapted from: https://logicatcore.github.io/2020-08-13-sparse-image-coordinates/\n",
        "# calculate the coodinates to the edges \n",
        "def find_non_zero_coordinates(edges):\n",
        "# Image height and width dimensions\n",
        "  shape = edges.shape\n",
        "  rows = shape[0]\n",
        "  columns = shape[1]\n",
        "\n",
        "  coordinates_grid = np.ones((2, rows, columns), dtype=np.int32)\n",
        "  coordinates_grid[0] = coordinates_grid[0] * np.array([range(rows)]).T\n",
        "  coordinates_grid[1] = coordinates_grid[1] * np.array([range(columns)])\n",
        "\n",
        "  start = time.time()\n",
        "  mask = edges != 0\n",
        "  non_zero_coords = np.hstack((coordinates_grid[0][mask].reshape(-1, 1),\n",
        "                             coordinates_grid[1][mask].reshape(-1, 1)))\n",
        "  return non_zero_coords\n",
        "\n",
        "\n",
        "edges_binary = np.float32(edges)\n",
        "edges_coords = find_non_zero_coordinates(edges_binary)\n",
        "\n",
        "# plot edges and convex hull \n",
        "fig5, (ax1, ax2) = pl.subplots(ncols=2, nrows=1, figsize=(8, 4),\n",
        "                                sharex=True, sharey=True)\n",
        "\n",
        "ax1.set_title('Original picture')\n",
        "ax1.imshow(image_final_GSC[0])\n",
        "\n",
        "ax2.set_title('Edge')\n",
        "ax2.imshow(edges)\n",
        "\n",
        "pl.show()\n",
        "\n",
        "hull = ConvexHull(edges_coords)\n",
        "\n",
        "for simplex in hull.simplices:\n",
        "  pl.plot(edges_coords[simplex, 1], \n",
        "          -edges_coords[simplex, 0])\n",
        "\n",
        "\n"
      ],
      "execution_count": null,
      "outputs": [
        {
          "data": {
            "image/png": "[encoded data removed]",
            "text/plain": [
              "<Figure size 576x288 with 2 Axes>"
            ]
          },
          "metadata": {},
          "output_type": "display_data"
        },
        {
          "data": {
            "image/png": "[encoded data removed]",
            "text/plain": [
              "<Figure size 432x288 with 1 Axes>"
            ]
          },
          "metadata": {},
          "output_type": "display_data"
        }
      ]
    },
    {
      "cell_type": "markdown",
      "metadata": {
        "id": "xDX5HL7VLd0z"
      },
      "source": [
        "# Training"
      ]
    },
    {
      "cell_type": "code",
      "metadata": {
        "id": "IeWf6HeTe8kM"
      },
      "source": [
        "#@title Train Utilities (SamplePool, Model Export, Damage)\n",
        "from google.protobuf.json_format import MessageToDict\n",
        "from tensorflow.python.framework import convert_to_constants\n",
        "\n",
        "class SamplePool:\n",
        "  def __init__(self, *, _parent=None, _parent_idx=None, **slots):\n",
        "    self._parent = _parent\n",
        "    self._parent_idx = _parent_idx\n",
        "    self._slot_names = slots.keys()\n",
        "    self._size = None\n",
        "    for k, v in slots.items():\n",
        "      if self._size is None:\n",
        "        self._size = len(v)\n",
        "      assert self._size == len(v)\n",
        "      setattr(self, k, np.asarray(v))\n",
        "\n",
        "  def sample(self, n):\n",
        "    idx = np.random.choice(self._size, n, False)\n",
        "    batch = {k: getattr(self, k)[idx] for k in self._slot_names}\n",
        "    batch = SamplePool(**batch, _parent=self, _parent_idx=idx)\n",
        "    return batch\n",
        "\n",
        "  def commit(self):\n",
        "    for k in self._slot_names:\n",
        "      getattr(self._parent, k)[self._parent_idx] = getattr(self, k)\n",
        "\n",
        "#@tf.function\n",
        "def make_circle_masks(n, h, w):\n",
        "  x = tf.linspace(-1.0, 1.0, w)[None, None, :]\n",
        "  y = tf.linspace(-1.0, 1.0, h)[None, :, None]\n",
        "  center = tf.random.uniform([2, n, 1, 1], -0.5, 0.5)\n",
        "  r = tf.random.uniform([n, 1, 1], 0.1, 0.4)\n",
        "  x, y = (x-center[0])/r, (y-center[1])/r\n",
        "  mask = tf.cast(x*x+y*y < 1.0, tf.float32)\n",
        "  return mask\n",
        "\n",
        "def export_model(ca, base_fn):\n",
        "  ca.save_weights(base_fn)\n",
        "\n",
        "  cf = ca.call.get_concrete_function(\n",
        "      x=tf.TensorSpec([None, None, None, CHANNEL_N]),\n",
        "      fire_rate=tf.constant(0.5),\n",
        "      angle=tf.constant(0.0),\n",
        "      step_size=tf.constant(1.0))\n",
        "  cf = convert_to_constants.convert_variables_to_constants_v2(cf)\n",
        "  graph_def = cf.graph.as_graph_def()\n",
        "  graph_json = MessageToDict(graph_def)\n",
        "  graph_json['versions'] = dict(producer='1.14', minConsumer='1.14')\n",
        "  model_json = {\n",
        "      'format': 'graph-model',\n",
        "      'modelTopology': graph_json,\n",
        "      'weightsManifest': [],\n",
        "  }\n",
        "  with open(base_fn+'.json', 'w') as f:\n",
        "    json.dump(model_json, f)\n",
        "\n",
        "def generate_pool_figures(pool, step_i):\n",
        "  tiled_pool = tile2d(to_rgb(pool.x[:49]))\n",
        "  fade = np.linspace(1.0, 0.0, 72)\n",
        "  ones = np.ones(72) \n",
        "  tiled_pool[:, :72] += (-tiled_pool[:, :72] + ones[None, :, None]) * fade[None, :, None] \n",
        "  tiled_pool[:, -72:] += (-tiled_pool[:, -72:] + ones[None, :, None]) * fade[None, ::-1, None]\n",
        "  tiled_pool[:72, :] += (-tiled_pool[:72, :] + ones[:, None, None]) * fade[:, None, None]\n",
        "  tiled_pool[-72:, :] += (-tiled_pool[-72:, :] + ones[:, None, None]) * fade[::-1, None, None]\n",
        "  imwrite('train_log/%04d_pool.jpg'%step_i, tiled_pool)\n",
        "\n",
        "def visualize_batch(x0, x, step_i):\n",
        "  vis0 = np.hstack(to_rgb(x0).numpy())\n",
        "  vis1 = np.hstack(to_rgb(x).numpy())\n",
        "  vis = np.vstack([vis0, vis1])\n",
        "  imwrite('train_log/batches_%04d.jpg'%step_i, vis)\n",
        "  print('batch (before/after):')\n",
        "  imshow(vis)\n",
        "\n",
        "def plot_loss(loss_log):\n",
        "  pl.figure(figsize=(10, 4))\n",
        "  pl.title('Loss history (log10)')\n",
        "  pl.plot(np.log10(loss_log), '.', alpha=0.1)\n",
        "  pl.show()\n"
      ],
      "execution_count": 65,
      "outputs": []
    },
    {
      "cell_type": "code",
      "metadata": {
        "id": "ak5rBmbxmHV7"
      },
      "source": [
        "#@title Define Training functions { vertical-output: true}\n",
        "\n",
        "# define loss function for backpropagation\n",
        "def loss_f(x, target_image):\n",
        "  # only difference in first 4 columns relevant \n",
        "  return tf.reduce_mean(tf.square(to_rgba(x) - target_image), [-2, -3, -1])\n",
        "\n",
        "@tf.function\n",
        "def train_step(x):\n",
        "  # random choice of steps after which the final state should be obtained \n",
        "  # acc. to pixel size of the output image (here 48)\n",
        "  iter_n = tf.random.uniform([], 64, 96, tf.int32)\n",
        "\n",
        "  # neural cellular automata (calling the object)\n",
        "  ca = CAModel()\n",
        "  with tf.GradientTape() as g:\n",
        "    for i in tf.range(iter_n):\n",
        "      # send x once through neural network and use output as input for next iteration\n",
        "      x = ca(x)\n",
        "      # reduces loss (difference between RGB value of current output and target) across all three dimensions \n",
        "    loss = tf.reduce_mean(loss_f(x, pad_target))\n",
        "  grads = g.gradient(loss, ca.weights)\n",
        "  grads = [g/(tf.norm(g)+1e-8) for g in grads]\n",
        "  trainer.apply_gradients(zip(grads, ca.weights))\n",
        "  return x, loss\n",
        "\n",
        "# @tf.function\n",
        "def train_step_two_targets(x, pad_intermediate, pad_target):\n",
        "  # observation after 48 and 60 hours \n",
        "  iter_n_intermediate = 48\n",
        "  iter_n = 60\n",
        "\n",
        "  # first neural network for update rule up to 48 hours \n",
        "  with tf.GradientTape() as g:\n",
        "    for i in tf.range(iter_n_intermediate):\n",
        "      # send x once through neural network and use output as input for next iteration\n",
        "      x = ca_1(x)\n",
        "    loss_intermediate = tf.reduce_mean(loss_f(x, pad_intermediate))\n",
        "    \n",
        "  grads_1 = g.gradient(loss_intermediate, ca_1.weights)\n",
        "  grads_1 = [g/(tf.norm(g)+1e-8) for g in grads_1]\n",
        "  trainer.apply_gradients(zip(grads_1, ca_1.weights))\n",
        "\n",
        "  # second neural network for update rule up to 60 hours\n",
        "  with tf.GradientTape() as g:\n",
        "    for i in tf.range(start = iter_n_intermediate, limit = iter_n):\n",
        "      x = ca_2(x)\n",
        "    loss_final = tf.reduce_mean(loss_f(x, pad_target))\n",
        "      # reduces loss (difference between RGB value of current output and target) across all three dimensions \n",
        "\n",
        "  grads_2 = g.gradient(loss_final, ca_2.weights)\n",
        "  grads_2 = [g/(tf.norm(g)+1e-8) for g in grads_2]\n",
        "  trainer.apply_gradients(zip(grads_2, ca_2.weights))\n",
        "\n",
        "  return x, loss_intermediate, loss_final \n",
        "\n",
        "\n",
        "  # @tf.function\n",
        "def train_intermediate(x, pad_intermediate):\n",
        "  # first neural network for update rule up to 48 hours \n",
        "  iter_n_intermediate = 48\n",
        "  with tf.GradientTape() as g:\n",
        "    for i in tf.range(iter_n_intermediate):\n",
        "      # send x once through neural network and use output as input for next iteration\n",
        "      x = ca_1(x)\n",
        "    loss_intermediate = tf.reduce_mean(loss_f(x, pad_intermediate))\n",
        "    \n",
        "  grads_1 = g.gradient(loss_intermediate, ca_1.weights)\n",
        "  grads_1 = [g/(tf.norm(g)+1e-8) for g in grads_1]\n",
        "  trainer.apply_gradients(zip(grads_1, ca_1.weights))\n",
        "\n",
        "  return x, loss_intermediate, ca_1.weights \n",
        "\n",
        "def train_final(x, pad_final):\n",
        "  # second neural network for update rule to 60 hours\n",
        "  iter_n_intermediate = 48\n",
        "  iter_n_final = 60\n",
        "  with tf.GradientTape() as g:\n",
        "    for i in tf.range(start = iter_n_intermediate, limit = iter_n_final):\n",
        "      x = ca_2(x)\n",
        "    loss_final = tf.reduce_mean(loss_f(x, pad_final))\n",
        "      # reduces loss (difference between RGB value of current output and target) across all three dimensions \n",
        "\n",
        "  grads_2 = g.gradient(loss_final, ca_2.weights)\n",
        "  grads_2 = [g/(tf.norm(g)+1e-8) for g in grads_2]\n",
        "  trainer.apply_gradients(zip(grads_2, ca_2.weights))\n",
        "  return x, loss_final \n",
        "\n"
      ],
      "execution_count": 67,
      "outputs": []
    },
    {
      "cell_type": "code",
      "metadata": {
        "id": "xuBI7d9kNkl7",
        "colab": {
          "base_uri": "https://localhost:8080/"
        },
        "outputId": "0ac5c10e-06ec-4ac2-88e6-58cc1c639c99"
      },
      "source": [
        "#@title Training Initialization { vertical-output: true}\n",
        "\n",
        "p = TARGET_PADDING\n",
        "pad_intermediate = tf.pad(intermediate_img, [(p, p), (p, p), (0, 0)])\n",
        "pad_target = tf.pad(target_img, [(p, p), (p, p), (0, 0)])\n",
        "\n",
        "h, w = pad_target.shape[:2]\n",
        "\n",
        "\n",
        "# INTITIAL STATE \n",
        "# define one single black pixel seed state\n",
        "seed = np.zeros([h, w, CHANNEL_N], np.float32)\n",
        "seed[h//2, w//2, 3:] = 1.0\n",
        "print(pad_intermediate.shape)\n",
        "print(pad_target.shape)\n",
        "print(intermediate_img.shape)\n",
        "print(target_img.shape)\n",
        "# alternatively: ellipse filled with SOX2 positive cells \n",
        "\n",
        "\n",
        "# empty array to save log loss value in each training iteration \n",
        "loss_log_intermediate = []\n",
        "loss_log_final = []\n",
        "\n",
        "# schedule for the learning rate\n",
        "lr = 2e-3\n",
        "lr_sched = tf.keras.optimizers.schedules.PiecewiseConstantDecay(\n",
        "    [2000], [lr, lr*0.1])\n",
        "\n",
        "# define ADAM algorithm to optimize \n",
        "trainer = tf.keras.optimizers.Adam(lr_sched)\n",
        "\n",
        "# initial loss for seed (maximum loss)\n",
        "loss0_intermediate = loss_f(seed, pad_intermediate).numpy()\n",
        "loss0_final = loss_f(seed, pad_target).numpy()\n",
        "\n",
        "# initial set up of the batch pool\n",
        "pool = SamplePool(x=np.repeat(seed[None, ...], POOL_SIZE, 0))\n",
        "\n",
        "!mkdir -p train_log && rm -f train_log/*"
      ],
      "execution_count": 68,
      "outputs": [
        {
          "output_type": "stream",
          "name": "stdout",
          "text": [
            "(90, 58, 4)\n",
            "(90, 58, 4)\n",
            "(58, 26, 4)\n",
            "(58, 26, 4)\n"
          ]
        }
      ]
    },
    {
      "cell_type": "code",
      "metadata": {
        "colab": {
          "base_uri": "https://localhost:8080/",
          "height": 545
        },
        "id": "QzP_vDchq0d9",
        "outputId": "ad3f4322-beb1-42e5-834b-8080e2bdbb8b"
      },
      "source": [
        "#@title Training Loop {vertical-output: true}\n",
        "import time # to stop the time training takes\n",
        "# neural cellular automata (calling the object)\n",
        "ca_1 = CAModel()\n",
        "\n",
        "start = time.clock()\n",
        "for i in range(200+1): \n",
        "  x0 = np.repeat(seed[None, ...], BATCH_SIZE, 0)\n",
        "\n",
        "  x, loss_intermediate, weights_intermediate = train_intermediate(x0, pad_intermediate) \n",
        "\n",
        "  step_intermediate_i = len(loss_log_intermediate)\n",
        "\n",
        "  loss_log_intermediate.append(loss_intermediate.numpy())\n",
        "\n",
        "  if step_intermediate_i%100 == 0:\n",
        "    clear_output()\n",
        "    export_model(ca_1, 'train_log_intermediate/%04d'%step_intermediate_i)\n",
        "\n",
        "    print('\\r step: %d, log10(loss): %.3f'%(len(loss_log_intermediate), np.log10(loss_intermediate)), end='')\n",
        "\n",
        "ca_2 = CAModel()\n",
        "\n",
        "for i in range(200+1): \n",
        "  x, loss_final = train_final(x, pad_target)\n",
        "  step_final_i = len(loss_log_final)\n",
        "\n",
        "  loss_log_intermediate.append(loss_intermediate.numpy())\n",
        "  loss_log_final.append(loss_final.numpy())\n",
        "  \n",
        "  if step_final_i%100 == 0:\n",
        "    clear_output()\n",
        "    export_model(ca_2, 'train_log_final/%04d'%step_final_i)\n",
        "\n",
        "    print('\\r step: %d, log10(loss): %.3f'%(len(loss_log_final), np.log10(loss_final)), end='')\n",
        "\n",
        "\n",
        "print('\\r 48 hours')\n",
        "plot_loss(loss_log_intermediate)\n",
        "print('\\r 60 hours')\n",
        "plot_loss(loss_log_final)\n",
        "\n",
        "end = time.clock()\n",
        "\n",
        "print('\\r training required %.3f seconds'%(end - start), end='')\n",
        "\n",
        "\n"
      ],
      "execution_count": 73,
      "outputs": [
        {
          "output_type": "error",
          "ename": "KeyboardInterrupt",
          "evalue": "ignored",
          "traceback": [
            "\u001b[0;31m---------------------------------------------------------------------------\u001b[0m",
            "\u001b[0;31mKeyboardInterrupt\u001b[0m                         Traceback (most recent call last)",
            "\u001b[0;32m<ipython-input-73-33ab086166a0>\u001b[0m in \u001b[0;36m<module>\u001b[0;34m()\u001b[0m\n\u001b[1;32m      8\u001b[0m   \u001b[0mx0\u001b[0m \u001b[0;34m=\u001b[0m \u001b[0mnp\u001b[0m\u001b[0;34m.\u001b[0m\u001b[0mrepeat\u001b[0m\u001b[0;34m(\u001b[0m\u001b[0mseed\u001b[0m\u001b[0;34m[\u001b[0m\u001b[0;32mNone\u001b[0m\u001b[0;34m,\u001b[0m \u001b[0;34m...\u001b[0m\u001b[0;34m]\u001b[0m\u001b[0;34m,\u001b[0m \u001b[0mBATCH_SIZE\u001b[0m\u001b[0;34m,\u001b[0m \u001b[0;36m0\u001b[0m\u001b[0;34m)\u001b[0m\u001b[0;34m\u001b[0m\u001b[0;34m\u001b[0m\u001b[0m\n\u001b[1;32m      9\u001b[0m \u001b[0;34m\u001b[0m\u001b[0m\n\u001b[0;32m---> 10\u001b[0;31m   \u001b[0mx\u001b[0m\u001b[0;34m,\u001b[0m \u001b[0mloss_intermediate\u001b[0m\u001b[0;34m,\u001b[0m \u001b[0mweights_intermediate\u001b[0m \u001b[0;34m=\u001b[0m \u001b[0mtrain_intermediate\u001b[0m\u001b[0;34m(\u001b[0m\u001b[0mx0\u001b[0m\u001b[0;34m,\u001b[0m \u001b[0mpad_intermediate\u001b[0m\u001b[0;34m)\u001b[0m\u001b[0;34m\u001b[0m\u001b[0;34m\u001b[0m\u001b[0m\n\u001b[0m\u001b[1;32m     11\u001b[0m \u001b[0;34m\u001b[0m\u001b[0m\n\u001b[1;32m     12\u001b[0m   \u001b[0mstep_intermediate_i\u001b[0m \u001b[0;34m=\u001b[0m \u001b[0mlen\u001b[0m\u001b[0;34m(\u001b[0m\u001b[0mloss_log_intermediate\u001b[0m\u001b[0;34m)\u001b[0m\u001b[0;34m\u001b[0m\u001b[0;34m\u001b[0m\u001b[0m\n",
            "\u001b[0;32m<ipython-input-67-c86f050f030f>\u001b[0m in \u001b[0;36mtrain_intermediate\u001b[0;34m(x, pad_intermediate)\u001b[0m\n\u001b[1;32m     63\u001b[0m     \u001b[0;32mfor\u001b[0m \u001b[0mi\u001b[0m \u001b[0;32min\u001b[0m \u001b[0mtf\u001b[0m\u001b[0;34m.\u001b[0m\u001b[0mrange\u001b[0m\u001b[0;34m(\u001b[0m\u001b[0miter_n_intermediate\u001b[0m\u001b[0;34m)\u001b[0m\u001b[0;34m:\u001b[0m\u001b[0;34m\u001b[0m\u001b[0;34m\u001b[0m\u001b[0m\n\u001b[1;32m     64\u001b[0m       \u001b[0;31m# send x once through neural network and use output as input for next iteration\u001b[0m\u001b[0;34m\u001b[0m\u001b[0;34m\u001b[0m\u001b[0;34m\u001b[0m\u001b[0m\n\u001b[0;32m---> 65\u001b[0;31m       \u001b[0mx\u001b[0m \u001b[0;34m=\u001b[0m \u001b[0mca_1\u001b[0m\u001b[0;34m(\u001b[0m\u001b[0mx\u001b[0m\u001b[0;34m)\u001b[0m\u001b[0;34m\u001b[0m\u001b[0;34m\u001b[0m\u001b[0m\n\u001b[0m\u001b[1;32m     66\u001b[0m     \u001b[0mloss_intermediate\u001b[0m \u001b[0;34m=\u001b[0m \u001b[0mtf\u001b[0m\u001b[0;34m.\u001b[0m\u001b[0mreduce_mean\u001b[0m\u001b[0;34m(\u001b[0m\u001b[0mloss_f\u001b[0m\u001b[0;34m(\u001b[0m\u001b[0mx\u001b[0m\u001b[0;34m,\u001b[0m \u001b[0mpad_intermediate\u001b[0m\u001b[0;34m)\u001b[0m\u001b[0;34m)\u001b[0m\u001b[0;34m\u001b[0m\u001b[0;34m\u001b[0m\u001b[0m\n\u001b[1;32m     67\u001b[0m \u001b[0;34m\u001b[0m\u001b[0m\n",
            "\u001b[0;32m/usr/local/lib/python3.7/dist-packages/keras/engine/base_layer.py\u001b[0m in \u001b[0;36m__call__\u001b[0;34m(self, *args, **kwargs)\u001b[0m\n\u001b[1;32m   1035\u001b[0m         with autocast_variable.enable_auto_cast_variables(\n\u001b[1;32m   1036\u001b[0m             self._compute_dtype_object):\n\u001b[0;32m-> 1037\u001b[0;31m           \u001b[0moutputs\u001b[0m \u001b[0;34m=\u001b[0m \u001b[0mcall_fn\u001b[0m\u001b[0;34m(\u001b[0m\u001b[0minputs\u001b[0m\u001b[0;34m,\u001b[0m \u001b[0;34m*\u001b[0m\u001b[0margs\u001b[0m\u001b[0;34m,\u001b[0m \u001b[0;34m**\u001b[0m\u001b[0mkwargs\u001b[0m\u001b[0;34m)\u001b[0m\u001b[0;34m\u001b[0m\u001b[0;34m\u001b[0m\u001b[0m\n\u001b[0m\u001b[1;32m   1038\u001b[0m \u001b[0;34m\u001b[0m\u001b[0m\n\u001b[1;32m   1039\u001b[0m         \u001b[0;32mif\u001b[0m \u001b[0mself\u001b[0m\u001b[0;34m.\u001b[0m\u001b[0m_activity_regularizer\u001b[0m\u001b[0;34m:\u001b[0m\u001b[0;34m\u001b[0m\u001b[0;34m\u001b[0m\u001b[0m\n",
            "\u001b[0;32m/usr/local/lib/python3.7/dist-packages/tensorflow/python/eager/def_function.py\u001b[0m in \u001b[0;36m__call__\u001b[0;34m(self, *args, **kwds)\u001b[0m\n\u001b[1;32m    883\u001b[0m \u001b[0;34m\u001b[0m\u001b[0m\n\u001b[1;32m    884\u001b[0m       \u001b[0;32mwith\u001b[0m \u001b[0mOptionalXlaContext\u001b[0m\u001b[0;34m(\u001b[0m\u001b[0mself\u001b[0m\u001b[0;34m.\u001b[0m\u001b[0m_jit_compile\u001b[0m\u001b[0;34m)\u001b[0m\u001b[0;34m:\u001b[0m\u001b[0;34m\u001b[0m\u001b[0;34m\u001b[0m\u001b[0m\n\u001b[0;32m--> 885\u001b[0;31m         \u001b[0mresult\u001b[0m \u001b[0;34m=\u001b[0m \u001b[0mself\u001b[0m\u001b[0;34m.\u001b[0m\u001b[0m_call\u001b[0m\u001b[0;34m(\u001b[0m\u001b[0;34m*\u001b[0m\u001b[0margs\u001b[0m\u001b[0;34m,\u001b[0m \u001b[0;34m**\u001b[0m\u001b[0mkwds\u001b[0m\u001b[0;34m)\u001b[0m\u001b[0;34m\u001b[0m\u001b[0;34m\u001b[0m\u001b[0m\n\u001b[0m\u001b[1;32m    886\u001b[0m \u001b[0;34m\u001b[0m\u001b[0m\n\u001b[1;32m    887\u001b[0m       \u001b[0mnew_tracing_count\u001b[0m \u001b[0;34m=\u001b[0m \u001b[0mself\u001b[0m\u001b[0;34m.\u001b[0m\u001b[0mexperimental_get_tracing_count\u001b[0m\u001b[0;34m(\u001b[0m\u001b[0;34m)\u001b[0m\u001b[0;34m\u001b[0m\u001b[0;34m\u001b[0m\u001b[0m\n",
            "\u001b[0;32m/usr/local/lib/python3.7/dist-packages/tensorflow/python/eager/def_function.py\u001b[0m in \u001b[0;36m_call\u001b[0;34m(self, *args, **kwds)\u001b[0m\n\u001b[1;32m    915\u001b[0m       \u001b[0;31m# In this case we have created variables on the first call, so we run the\u001b[0m\u001b[0;34m\u001b[0m\u001b[0;34m\u001b[0m\u001b[0;34m\u001b[0m\u001b[0m\n\u001b[1;32m    916\u001b[0m       \u001b[0;31m# defunned version which is guaranteed to never create variables.\u001b[0m\u001b[0;34m\u001b[0m\u001b[0;34m\u001b[0m\u001b[0;34m\u001b[0m\u001b[0m\n\u001b[0;32m--> 917\u001b[0;31m       \u001b[0;32mreturn\u001b[0m \u001b[0mself\u001b[0m\u001b[0;34m.\u001b[0m\u001b[0m_stateless_fn\u001b[0m\u001b[0;34m(\u001b[0m\u001b[0;34m*\u001b[0m\u001b[0margs\u001b[0m\u001b[0;34m,\u001b[0m \u001b[0;34m**\u001b[0m\u001b[0mkwds\u001b[0m\u001b[0;34m)\u001b[0m  \u001b[0;31m# pylint: disable=not-callable\u001b[0m\u001b[0;34m\u001b[0m\u001b[0;34m\u001b[0m\u001b[0m\n\u001b[0m\u001b[1;32m    918\u001b[0m     \u001b[0;32melif\u001b[0m \u001b[0mself\u001b[0m\u001b[0;34m.\u001b[0m\u001b[0m_stateful_fn\u001b[0m \u001b[0;32mis\u001b[0m \u001b[0;32mnot\u001b[0m \u001b[0;32mNone\u001b[0m\u001b[0;34m:\u001b[0m\u001b[0;34m\u001b[0m\u001b[0;34m\u001b[0m\u001b[0m\n\u001b[1;32m    919\u001b[0m       \u001b[0;31m# Release the lock early so that multiple threads can perform the call\u001b[0m\u001b[0;34m\u001b[0m\u001b[0;34m\u001b[0m\u001b[0;34m\u001b[0m\u001b[0m\n",
            "\u001b[0;32m/usr/local/lib/python3.7/dist-packages/tensorflow/python/eager/function.py\u001b[0m in \u001b[0;36m__call__\u001b[0;34m(self, *args, **kwargs)\u001b[0m\n\u001b[1;32m   3038\u001b[0m        filtered_flat_args) = self._maybe_define_function(args, kwargs)\n\u001b[1;32m   3039\u001b[0m     return graph_function._call_flat(\n\u001b[0;32m-> 3040\u001b[0;31m         filtered_flat_args, captured_inputs=graph_function.captured_inputs)  # pylint: disable=protected-access\n\u001b[0m\u001b[1;32m   3041\u001b[0m \u001b[0;34m\u001b[0m\u001b[0m\n\u001b[1;32m   3042\u001b[0m   \u001b[0;34m@\u001b[0m\u001b[0mproperty\u001b[0m\u001b[0;34m\u001b[0m\u001b[0;34m\u001b[0m\u001b[0m\n",
            "\u001b[0;32m/usr/local/lib/python3.7/dist-packages/tensorflow/python/eager/function.py\u001b[0m in \u001b[0;36m_call_flat\u001b[0;34m(self, args, captured_inputs, cancellation_manager)\u001b[0m\n\u001b[1;32m   1970\u001b[0m     \u001b[0;32mif\u001b[0m \u001b[0mexecuting_eagerly\u001b[0m\u001b[0;34m:\u001b[0m\u001b[0;34m\u001b[0m\u001b[0;34m\u001b[0m\u001b[0m\n\u001b[1;32m   1971\u001b[0m       flat_outputs = forward_function.call(\n\u001b[0;32m-> 1972\u001b[0;31m           ctx, args_with_tangents, cancellation_manager=cancellation_manager)\n\u001b[0m\u001b[1;32m   1973\u001b[0m     \u001b[0;32melse\u001b[0m\u001b[0;34m:\u001b[0m\u001b[0;34m\u001b[0m\u001b[0;34m\u001b[0m\u001b[0m\n\u001b[1;32m   1974\u001b[0m       with default_graph._override_gradient_function(  # pylint: disable=protected-access\n",
            "\u001b[0;32m/usr/local/lib/python3.7/dist-packages/tensorflow/python/eager/function.py\u001b[0m in \u001b[0;36mcall\u001b[0;34m(self, ctx, args, cancellation_manager)\u001b[0m\n\u001b[1;32m    594\u001b[0m               \u001b[0minputs\u001b[0m\u001b[0;34m=\u001b[0m\u001b[0margs\u001b[0m\u001b[0;34m,\u001b[0m\u001b[0;34m\u001b[0m\u001b[0;34m\u001b[0m\u001b[0m\n\u001b[1;32m    595\u001b[0m               \u001b[0mattrs\u001b[0m\u001b[0;34m=\u001b[0m\u001b[0mattrs\u001b[0m\u001b[0;34m,\u001b[0m\u001b[0;34m\u001b[0m\u001b[0;34m\u001b[0m\u001b[0m\n\u001b[0;32m--> 596\u001b[0;31m               ctx=ctx)\n\u001b[0m\u001b[1;32m    597\u001b[0m         \u001b[0;32melse\u001b[0m\u001b[0;34m:\u001b[0m\u001b[0;34m\u001b[0m\u001b[0;34m\u001b[0m\u001b[0m\n\u001b[1;32m    598\u001b[0m           outputs = execute.execute_with_cancellation(\n",
            "\u001b[0;32m/usr/local/lib/python3.7/dist-packages/tensorflow/python/eager/execute.py\u001b[0m in \u001b[0;36mquick_execute\u001b[0;34m(op_name, num_outputs, inputs, attrs, ctx, name)\u001b[0m\n\u001b[1;32m     58\u001b[0m     \u001b[0mctx\u001b[0m\u001b[0;34m.\u001b[0m\u001b[0mensure_initialized\u001b[0m\u001b[0;34m(\u001b[0m\u001b[0;34m)\u001b[0m\u001b[0;34m\u001b[0m\u001b[0;34m\u001b[0m\u001b[0m\n\u001b[1;32m     59\u001b[0m     tensors = pywrap_tfe.TFE_Py_Execute(ctx._handle, device_name, op_name,\n\u001b[0;32m---> 60\u001b[0;31m                                         inputs, attrs, num_outputs)\n\u001b[0m\u001b[1;32m     61\u001b[0m   \u001b[0;32mexcept\u001b[0m \u001b[0mcore\u001b[0m\u001b[0;34m.\u001b[0m\u001b[0m_NotOkStatusException\u001b[0m \u001b[0;32mas\u001b[0m \u001b[0me\u001b[0m\u001b[0;34m:\u001b[0m\u001b[0;34m\u001b[0m\u001b[0;34m\u001b[0m\u001b[0m\n\u001b[1;32m     62\u001b[0m     \u001b[0;32mif\u001b[0m \u001b[0mname\u001b[0m \u001b[0;32mis\u001b[0m \u001b[0;32mnot\u001b[0m \u001b[0;32mNone\u001b[0m\u001b[0;34m:\u001b[0m\u001b[0;34m\u001b[0m\u001b[0;34m\u001b[0m\u001b[0m\n",
            "\u001b[0;31mKeyboardInterrupt\u001b[0m: "
          ]
        }
      ]
    },
    {
      "cell_type": "code",
      "metadata": {
        "colab": {
          "base_uri": "https://localhost:8080/"
        },
        "id": "ugVm4YUcjbIZ",
        "outputId": "51fbb314-51f1-47f8-fbba-2671fdc6cc8d"
      },
      "source": [
        "print(weights_intermediate[3].shape)\n",
        "#print(np.squeeze(weights_intermediate[1], axis = (0, 1)).shape)\n",
        "\n",
        "first_NN = False, \n",
        "               kernel_1 = np.squeeze(weights_intermediate[0], axis = (0, 1)), \n",
        "               bias_1 = weights_intermediate[1], \n",
        "               kernel_2 = np.squeeze(weights_intermediate[2], axis = (0, 1)), \n",
        "               bias_2 = weights_intermediate[3]"
      ],
      "execution_count": null,
      "outputs": [
        {
          "name": "stdout",
          "output_type": "stream",
          "text": [
            "(16,)\n"
          ]
        }
      ]
    },
    {
      "cell_type": "markdown",
      "metadata": {
        "id": "TNn88hqqG_zv"
      },
      "source": [
        "# Saving"
      ]
    },
    {
      "cell_type": "code",
      "metadata": {
        "colab": {
          "base_uri": "https://localhost:8080/"
        },
        "id": "K9f-0KX17Qro",
        "outputId": "80f64e96-8bc6-4e83-e819-d0ae10c1a615"
      },
      "source": [
        "#@title Save models \n",
        "ca_1.save('NN_intermediate_default_params')\n",
        "ca_2.save('NN_final_default_params')\n",
        "\n",
        "%cp -R /content/NN_intermediate_default_params /content/gdrive/My\\ Drive/Neural_cellular_automata/\n",
        "%cp -R /content/NN_final_default_params /content/gdrive/My\\ Drive/Neural_cellular_automata/"
      ],
      "execution_count": null,
      "outputs": [
        {
          "name": "stdout",
          "output_type": "stream",
          "text": [
            "INFO:tensorflow:Assets written to: NN_intermediate_default_params/assets\n",
            "INFO:tensorflow:Assets written to: NN_final_default_params/assets\n",
            "cp: cannot create directory '/content/gdrive/My Drive/Neural_cellular_automata/': No such file or directory\n",
            "cp: cannot create directory '/content/gdrive/My Drive/Neural_cellular_automata/': No such file or directory\n"
          ]
        }
      ]
    },
    {
      "cell_type": "code",
      "metadata": {
        "id": "mLrqFYt6G8it"
      },
      "source": [
        "#@title Save loss \n",
        "\n",
        "import pickle\n",
        "\n",
        "file_name = 'loss_default_params.pckl'\n",
        "f = open(file_name, 'wb')\n",
        "pickle.dump([loss_log_intermediate, loss_log_final], f)\n",
        "f.close()"
      ],
      "execution_count": null,
      "outputs": []
    },
    {
      "cell_type": "code",
      "metadata": {
        "colab": {
          "base_uri": "https://localhost:8080/"
        },
        "id": "o0EfYRzj_9rU",
        "outputId": "4bfac646-0b5c-4cf9-d8f6-bda93e785b1c"
      },
      "source": [
        "#@title Loading \n",
        "\n",
        "# 1. Model\n",
        "# https://stackoverflow.com/questions/53295570/userwarning-no-training-configuration-found-in-save-file-the-model-was-not-c\n",
        "loaded_model = tf.keras.models.load_model('NN_intermediate_default_params', \n",
        "                                          compile=False)\n",
        "loaded_model.weights\n"
      ],
      "execution_count": null,
      "outputs": [
        {
          "data": {
            "text/plain": [
              "<tf.Variable 'conv2d_32/bias:0' shape=(128,) dtype=float32, numpy=\n",
              "array([ 1.43380594e-02,  1.05032902e-02,  3.02499998e-03,  8.07682332e-03,\n",
              "        2.61446573e-02,  2.60926783e-02,  1.47868693e-02,  9.60783195e-03,\n",
              "       -9.44692176e-04,  6.16618991e-03,  3.16906273e-02,  3.73104103e-02,\n",
              "        7.89492205e-03,  2.06603687e-02, -6.24965032e-05,  3.86481509e-02,\n",
              "        2.82917842e-02, -2.41016573e-03, -2.87566846e-03,  6.62499741e-02,\n",
              "        3.27194519e-02,  2.28661615e-02, -9.50298365e-03,  2.91575231e-02,\n",
              "        3.29065882e-02,  1.59919653e-02,  2.57661678e-02,  1.82979684e-02,\n",
              "        3.48092131e-02, -1.55392243e-02,  4.38872464e-02,  3.12419445e-03,\n",
              "        5.41609153e-02,  2.55328361e-02,  6.10352680e-03, -2.28783907e-03,\n",
              "        2.10563764e-02, -1.06340433e-02,  1.02187283e-02,  5.63815869e-02,\n",
              "        1.07776318e-02, -1.14530539e-02, -3.35888844e-03,  7.45383324e-04,\n",
              "        4.63733962e-03,  1.44941332e-02,  3.54238264e-02,  7.05380887e-02,\n",
              "        4.28702943e-02,  2.01281272e-02,  1.72754042e-02,  9.04449672e-02,\n",
              "        7.53002316e-02,  4.13349122e-02,  4.70880652e-03,  3.62639204e-02,\n",
              "        2.67669763e-02,  1.77742168e-02,  5.75325228e-02,  2.33130381e-02,\n",
              "        7.25314533e-03,  3.72005813e-03,  4.05905582e-02,  3.12632546e-02,\n",
              "        3.68563943e-02,  3.44594792e-02,  4.64077033e-02,  3.38492170e-02,\n",
              "        1.68378954e-03,  1.50208045e-02,  4.02524993e-02,  2.39004637e-03,\n",
              "        4.80914079e-02,  1.58971976e-02,  4.93376777e-02,  2.26039067e-02,\n",
              "        4.06119637e-02,  7.59346634e-02,  4.09854460e-04,  7.97333196e-03,\n",
              "        1.50520736e-02,  3.59310731e-02,  3.04979505e-03, -1.91222981e-03,\n",
              "        1.34972120e-02,  6.50756108e-03,  5.62588638e-03,  1.67439673e-02,\n",
              "        1.54046239e-02,  3.61639424e-04,  3.35754007e-02,  1.27438605e-02,\n",
              "        5.89822419e-03,  5.52748563e-03,  7.73323094e-03,  3.32141034e-02,\n",
              "       -9.43757035e-03, -3.70867644e-03, -1.09145008e-02,  2.30831951e-02,\n",
              "        3.79728638e-02,  6.46806210e-02,  3.90161946e-02, -1.44222677e-02,\n",
              "        4.06993646e-03,  8.69023614e-04,  1.12593751e-02,  6.32231832e-02,\n",
              "        1.20123867e-02,  4.31106752e-03,  6.79818541e-03,  1.81299262e-02,\n",
              "       -9.60273575e-03, -2.38401419e-03,  1.08322650e-02, -2.26188730e-03,\n",
              "        5.46876863e-02,  6.02153176e-03, -1.63579322e-02,  6.12148829e-02,\n",
              "        3.00714914e-02,  1.67607535e-02,  3.02270614e-02,  1.98606458e-02,\n",
              "        3.88290919e-02,  4.44563106e-02,  4.37735859e-03,  2.17246171e-02],\n",
              "      dtype=float32)>"
            ]
          },
          "execution_count": 10,
          "metadata": {},
          "output_type": "execute_result"
        }
      ]
    },
    {
      "cell_type": "code",
      "metadata": {
        "id": "0BTMAZ8jiqjS"
      },
      "source": [
        "#2. Variables\n",
        "# https://stackoverflow.com/questions/6568007/how-do-i-save-and-restore-multiple-variables-in-python\n",
        "file_name = 'loss_default_params.pckl'\n",
        "f = open(file_name, 'rb')\n",
        "obj = pickle.load(f)\n",
        "f.close()"
      ],
      "execution_count": null,
      "outputs": []
    },
    {
      "cell_type": "markdown",
      "metadata": {
        "id": "QAscSKkRaFwp"
      },
      "source": [
        "# Figures"
      ]
    },
    {
      "cell_type": "code",
      "metadata": {
        "colab": {
          "base_uri": "https://localhost:8080/",
          "height": 443
        },
        "id": "nqvkfl9W4ODI",
        "outputId": "7ecd8dec-71c6-4c71-cee7-58e5e92a9e0e"
      },
      "source": [
        "#@title Training Progress (Checkpoints)\n",
        "\n",
        "models = []\n",
        "for i in [100, 200, 300]:\n",
        "# [100, 500, 1000, 4000]:\n",
        "  ca = CAModel()\n",
        "  ca.load_weights('train_log_intermediate/%04d'%i)\n",
        "  models.append(ca_1)\n",
        "\n",
        "out_fn = 'train_steps_damage_%d.mp4'%DAMAGE_N\n",
        "x = np.zeros([len(models), 72, 72, CHANNEL_N], np.float32)\n",
        "x[..., 36, 36, 3:] = 1.0\n",
        "with VideoWriter(out_fn) as vid:\n",
        "  for i in tqdm.trange(500):\n",
        "    vis = np.hstack(to_rgb(x))\n",
        "    vid.add(zoom(vis, 2))\n",
        "    for ca, xk in zip(models, x):\n",
        "      xk[:] = ca(xk[None,...])[0]\n",
        "mvp.ipython_display(out_fn)\n",
        "\n"
      ],
      "execution_count": null,
      "outputs": [
        {
          "ename": "NotFoundError",
          "evalue": "ignored",
          "output_type": "error",
          "traceback": [
            "\u001b[0;31m---------------------------------------------------------------------------\u001b[0m",
            "\u001b[0;31mRuntimeError\u001b[0m                              Traceback (most recent call last)",
            "\u001b[0;32m/usr/local/lib/python3.7/dist-packages/tensorflow/python/training/py_checkpoint_reader.py\u001b[0m in \u001b[0;36mNewCheckpointReader\u001b[0;34m(filepattern)\u001b[0m\n\u001b[1;32m     95\u001b[0m   \u001b[0;32mtry\u001b[0m\u001b[0;34m:\u001b[0m\u001b[0;34m\u001b[0m\u001b[0;34m\u001b[0m\u001b[0m\n\u001b[0;32m---> 96\u001b[0;31m     \u001b[0;32mreturn\u001b[0m \u001b[0mCheckpointReader\u001b[0m\u001b[0;34m(\u001b[0m\u001b[0mcompat\u001b[0m\u001b[0;34m.\u001b[0m\u001b[0mas_bytes\u001b[0m\u001b[0;34m(\u001b[0m\u001b[0mfilepattern\u001b[0m\u001b[0;34m)\u001b[0m\u001b[0;34m)\u001b[0m\u001b[0;34m\u001b[0m\u001b[0;34m\u001b[0m\u001b[0m\n\u001b[0m\u001b[1;32m     97\u001b[0m   \u001b[0;31m# TODO(b/143319754): Remove the RuntimeError casting logic once we resolve the\u001b[0m\u001b[0;34m\u001b[0m\u001b[0;34m\u001b[0m\u001b[0;34m\u001b[0m\u001b[0m\n",
            "\u001b[0;31mRuntimeError\u001b[0m: Unsuccessful TensorSliceReader constructor: Failed to find any matching files for train_log/0100",
            "\nDuring handling of the above exception, another exception occurred:\n",
            "\u001b[0;31mNotFoundError\u001b[0m                             Traceback (most recent call last)",
            "\u001b[0;32m<ipython-input-32-681c8e47f668>\u001b[0m in \u001b[0;36m<module>\u001b[0;34m()\u001b[0m\n\u001b[1;32m      5\u001b[0m \u001b[0;31m# [100, 500, 1000, 4000]:\u001b[0m\u001b[0;34m\u001b[0m\u001b[0;34m\u001b[0m\u001b[0;34m\u001b[0m\u001b[0m\n\u001b[1;32m      6\u001b[0m   \u001b[0mca_1\u001b[0m \u001b[0;34m=\u001b[0m \u001b[0mCAModel\u001b[0m\u001b[0;34m(\u001b[0m\u001b[0;34m)\u001b[0m\u001b[0;34m\u001b[0m\u001b[0;34m\u001b[0m\u001b[0m\n\u001b[0;32m----> 7\u001b[0;31m   \u001b[0mca_1\u001b[0m\u001b[0;34m.\u001b[0m\u001b[0mload_weights\u001b[0m\u001b[0;34m(\u001b[0m\u001b[0;34m'train_log/%04d'\u001b[0m\u001b[0;34m%\u001b[0m\u001b[0mi\u001b[0m\u001b[0;34m)\u001b[0m\u001b[0;34m\u001b[0m\u001b[0;34m\u001b[0m\u001b[0m\n\u001b[0m\u001b[1;32m      8\u001b[0m   \u001b[0mmodels\u001b[0m\u001b[0;34m.\u001b[0m\u001b[0mappend\u001b[0m\u001b[0;34m(\u001b[0m\u001b[0mca_1\u001b[0m\u001b[0;34m)\u001b[0m\u001b[0;34m\u001b[0m\u001b[0;34m\u001b[0m\u001b[0m\n\u001b[1;32m      9\u001b[0m \u001b[0;34m\u001b[0m\u001b[0m\n",
            "\u001b[0;32m/usr/local/lib/python3.7/dist-packages/keras/engine/training.py\u001b[0m in \u001b[0;36mload_weights\u001b[0;34m(self, filepath, by_name, skip_mismatch, options)\u001b[0m\n\u001b[1;32m   2327\u001b[0m           'True when by_name is True.')\n\u001b[1;32m   2328\u001b[0m \u001b[0;34m\u001b[0m\u001b[0m\n\u001b[0;32m-> 2329\u001b[0;31m     \u001b[0mfilepath\u001b[0m\u001b[0;34m,\u001b[0m \u001b[0msave_format\u001b[0m \u001b[0;34m=\u001b[0m \u001b[0m_detect_save_format\u001b[0m\u001b[0;34m(\u001b[0m\u001b[0mfilepath\u001b[0m\u001b[0;34m)\u001b[0m\u001b[0;34m\u001b[0m\u001b[0;34m\u001b[0m\u001b[0m\n\u001b[0m\u001b[1;32m   2330\u001b[0m     \u001b[0;32mif\u001b[0m \u001b[0msave_format\u001b[0m \u001b[0;34m==\u001b[0m \u001b[0;34m'tf'\u001b[0m\u001b[0;34m:\u001b[0m\u001b[0;34m\u001b[0m\u001b[0;34m\u001b[0m\u001b[0m\n\u001b[1;32m   2331\u001b[0m       \u001b[0mstatus\u001b[0m \u001b[0;34m=\u001b[0m \u001b[0mself\u001b[0m\u001b[0;34m.\u001b[0m\u001b[0m_trackable_saver\u001b[0m\u001b[0;34m.\u001b[0m\u001b[0mrestore\u001b[0m\u001b[0;34m(\u001b[0m\u001b[0mfilepath\u001b[0m\u001b[0;34m,\u001b[0m \u001b[0moptions\u001b[0m\u001b[0;34m)\u001b[0m\u001b[0;34m\u001b[0m\u001b[0;34m\u001b[0m\u001b[0m\n",
            "\u001b[0;32m/usr/local/lib/python3.7/dist-packages/keras/engine/training.py\u001b[0m in \u001b[0;36m_detect_save_format\u001b[0;34m(filepath)\u001b[0m\n\u001b[1;32m   3012\u001b[0m   \u001b[0;31m# directory. It's possible for filepath to be both a prefix and directory.\u001b[0m\u001b[0;34m\u001b[0m\u001b[0;34m\u001b[0m\u001b[0;34m\u001b[0m\u001b[0m\n\u001b[1;32m   3013\u001b[0m   \u001b[0;31m# Prioritize checkpoint over SavedModel.\u001b[0m\u001b[0;34m\u001b[0m\u001b[0;34m\u001b[0m\u001b[0;34m\u001b[0m\u001b[0m\n\u001b[0;32m-> 3014\u001b[0;31m   \u001b[0;32mif\u001b[0m \u001b[0m_is_readable_tf_checkpoint\u001b[0m\u001b[0;34m(\u001b[0m\u001b[0mfilepath\u001b[0m\u001b[0;34m)\u001b[0m\u001b[0;34m:\u001b[0m\u001b[0;34m\u001b[0m\u001b[0;34m\u001b[0m\u001b[0m\n\u001b[0m\u001b[1;32m   3015\u001b[0m     \u001b[0msave_format\u001b[0m \u001b[0;34m=\u001b[0m \u001b[0;34m'tf'\u001b[0m\u001b[0;34m\u001b[0m\u001b[0;34m\u001b[0m\u001b[0m\n\u001b[1;32m   3016\u001b[0m   \u001b[0;32melif\u001b[0m \u001b[0mtf\u001b[0m\u001b[0;34m.\u001b[0m\u001b[0msaved_model\u001b[0m\u001b[0;34m.\u001b[0m\u001b[0mcontains_saved_model\u001b[0m\u001b[0;34m(\u001b[0m\u001b[0mfilepath\u001b[0m\u001b[0;34m)\u001b[0m\u001b[0;34m:\u001b[0m\u001b[0;34m\u001b[0m\u001b[0;34m\u001b[0m\u001b[0m\n",
            "\u001b[0;32m/usr/local/lib/python3.7/dist-packages/keras/engine/training.py\u001b[0m in \u001b[0;36m_is_readable_tf_checkpoint\u001b[0;34m(filepath)\u001b[0m\n\u001b[1;32m   3033\u001b[0m \u001b[0;32mdef\u001b[0m \u001b[0m_is_readable_tf_checkpoint\u001b[0m\u001b[0;34m(\u001b[0m\u001b[0mfilepath\u001b[0m\u001b[0;34m)\u001b[0m\u001b[0;34m:\u001b[0m\u001b[0;34m\u001b[0m\u001b[0;34m\u001b[0m\u001b[0m\n\u001b[1;32m   3034\u001b[0m   \u001b[0;32mtry\u001b[0m\u001b[0;34m:\u001b[0m\u001b[0;34m\u001b[0m\u001b[0;34m\u001b[0m\u001b[0m\n\u001b[0;32m-> 3035\u001b[0;31m     \u001b[0mtf\u001b[0m\u001b[0;34m.\u001b[0m\u001b[0mcompat\u001b[0m\u001b[0;34m.\u001b[0m\u001b[0mv1\u001b[0m\u001b[0;34m.\u001b[0m\u001b[0mtrain\u001b[0m\u001b[0;34m.\u001b[0m\u001b[0mNewCheckpointReader\u001b[0m\u001b[0;34m(\u001b[0m\u001b[0mfilepath\u001b[0m\u001b[0;34m)\u001b[0m\u001b[0;34m\u001b[0m\u001b[0;34m\u001b[0m\u001b[0m\n\u001b[0m\u001b[1;32m   3036\u001b[0m     \u001b[0;32mreturn\u001b[0m \u001b[0;32mTrue\u001b[0m\u001b[0;34m\u001b[0m\u001b[0;34m\u001b[0m\u001b[0m\n\u001b[1;32m   3037\u001b[0m   \u001b[0;32mexcept\u001b[0m \u001b[0mtf\u001b[0m\u001b[0;34m.\u001b[0m\u001b[0merrors\u001b[0m\u001b[0;34m.\u001b[0m\u001b[0mDataLossError\u001b[0m\u001b[0;34m:\u001b[0m\u001b[0;34m\u001b[0m\u001b[0;34m\u001b[0m\u001b[0m\n",
            "\u001b[0;32m/usr/local/lib/python3.7/dist-packages/tensorflow/python/training/py_checkpoint_reader.py\u001b[0m in \u001b[0;36mNewCheckpointReader\u001b[0;34m(filepattern)\u001b[0m\n\u001b[1;32m     98\u001b[0m   \u001b[0;31m# issue with throwing python exceptions from C++.\u001b[0m\u001b[0;34m\u001b[0m\u001b[0;34m\u001b[0m\u001b[0;34m\u001b[0m\u001b[0m\n\u001b[1;32m     99\u001b[0m   \u001b[0;32mexcept\u001b[0m \u001b[0mRuntimeError\u001b[0m \u001b[0;32mas\u001b[0m \u001b[0me\u001b[0m\u001b[0;34m:\u001b[0m\u001b[0;34m\u001b[0m\u001b[0;34m\u001b[0m\u001b[0m\n\u001b[0;32m--> 100\u001b[0;31m     \u001b[0merror_translator\u001b[0m\u001b[0;34m(\u001b[0m\u001b[0me\u001b[0m\u001b[0;34m)\u001b[0m\u001b[0;34m\u001b[0m\u001b[0;34m\u001b[0m\u001b[0m\n\u001b[0m",
            "\u001b[0;32m/usr/local/lib/python3.7/dist-packages/tensorflow/python/training/py_checkpoint_reader.py\u001b[0m in \u001b[0;36merror_translator\u001b[0;34m(e)\u001b[0m\n\u001b[1;32m     33\u001b[0m       \u001b[0;34m'Failed to find any '\u001b[0m\u001b[0;34m\u001b[0m\u001b[0;34m\u001b[0m\u001b[0m\n\u001b[1;32m     34\u001b[0m       'matching files for') in error_message:\n\u001b[0;32m---> 35\u001b[0;31m     \u001b[0;32mraise\u001b[0m \u001b[0merrors_impl\u001b[0m\u001b[0;34m.\u001b[0m\u001b[0mNotFoundError\u001b[0m\u001b[0;34m(\u001b[0m\u001b[0;32mNone\u001b[0m\u001b[0;34m,\u001b[0m \u001b[0;32mNone\u001b[0m\u001b[0;34m,\u001b[0m \u001b[0merror_message\u001b[0m\u001b[0;34m)\u001b[0m\u001b[0;34m\u001b[0m\u001b[0;34m\u001b[0m\u001b[0m\n\u001b[0m\u001b[1;32m     36\u001b[0m   elif 'Sliced checkpoints are not supported' in error_message or (\n\u001b[1;32m     37\u001b[0m       \u001b[0;34m'Data type '\u001b[0m\u001b[0;34m\u001b[0m\u001b[0;34m\u001b[0m\u001b[0m\n",
            "\u001b[0;31mNotFoundError\u001b[0m: Unsuccessful TensorSliceReader constructor: Failed to find any matching files for train_log/0100"
          ]
        }
      ]
    },
    {
      "cell_type": "code",
      "metadata": {
        "id": "QeXZKb5v2gxj"
      },
      "source": [
        "#@title Training Progress (Batches)\n",
        "frames = sorted(glob.glob('train_log/batches_*.jpg'))\n",
        "mvp.ImageSequenceClip(frames, fps=10.0).write_videofile('batches.mp4')\n",
        "mvp.ipython_display('batches.mp4')"
      ],
      "execution_count": null,
      "outputs": []
    },
    {
      "cell_type": "code",
      "metadata": {
        "id": "B4JAbAJf6Alw"
      },
      "source": [
        "#@title Compare performance\n",
        "\n",
        "print(min(loss_log))\n",
        "\n",
        "# lizard: 4.293312e-05 \n",
        "# pig nose: 0.0001504272\n",
        "# stem cell \n",
        "  # 48h: 6.941299e-05\n",
        "  # 60h: 6.555613e-05\n",
        "\n",
        "# compare loss at the end "
      ],
      "execution_count": null,
      "outputs": []
    },
    {
      "cell_type": "markdown",
      "metadata": {
        "id": "ZzmG0FavLuhw"
      },
      "source": [
        "\n",
        "# Hyperparameter tuning \n"
      ]
    },
    {
      "cell_type": "code",
      "metadata": {
        "id": "rHorpxP2z6uW"
      },
      "source": [
        "#@title Define parameters \n",
        "\n",
        "# subsection Cellular Automata Parameters "
      ],
      "execution_count": null,
      "outputs": []
    },
    {
      "cell_type": "code",
      "metadata": {
        "id": "GNok2srn0IKC"
      },
      "source": [
        "#@title Compare performance of hyperparameter choice "
      ],
      "execution_count": null,
      "outputs": []
    }
  ]
}